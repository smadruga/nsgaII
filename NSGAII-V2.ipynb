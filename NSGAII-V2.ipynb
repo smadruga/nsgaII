{
 "cells": [
  {
   "cell_type": "markdown",
   "metadata": {},
   "source": [
    "### Algoritmo NSGAII\n",
    "\n",
    "O Algoritmo NSGAII trabalha como um operador de seleção de indivíduos sobre uma população. É mais rápido e possui uma menor complexidade computacional se comparado com outros algoritmos notórios. A adoção do método elitista garante uma maior velocidade de sua execução.\n",
    "\n",
    "Inicialmente uma população P(t) de tamanho N (t=0) é criada aleatoriamente e ordenada de acordo com sua não-dominância. Para cada solução é atribuído um valor de fitness (ou rank) equivalente ao seu nível de não-dominância, sendo o nível 1 o melhor, nível 2 o melhor seguinte e etc.\n",
    "\n",
    "Em seguida Q(t), de tamanho N e t=0, é gerado utilizando operadores de seleção de torneiro binário, recombinação e mutação.\n",
    "\n",
    "Feito isso, combina-se P(t) e Q(t) (pais e filhos) obtendo-se R(t) de tamanho 2N. O elitismo é garantido neste processo pois, até o momento, todos os indivíduos gerados estão preservados. \n",
    "\n",
    "As soluções de R(t) são ordenadas de acordo com sua não-dominância, formando as fronteiras, desde F1 (fronteira que contém as melhores soluções) até a última identificada. O pior caso ocorre quando para cada fronteira há apenas uma solução.\n",
    "\n",
    "O objetivo seguinte é obter a próxima geração P(t+1) de tamanho N a partir de R(t). Logo, se o tamanho da fronteira F1 de R(t) for menor que N todas as soluções de F1 passarão a pertencer a P(t+1). E soluções das fronteiras seguintes são adicionadas a P(t+1) até que seu tamanho seja N, de acordo com o ranking de não dominância.\n",
    "\n",
    "<div align='center'><img src='https://www.researchgate.net/profile/N_Nariman-Zadeh/publication/228569970/figure/fig1/AS:302014627106822@1449017306661/Fig-1-Basics-of-NSGA-II-procedure.png' width='56%' align='center'/>\n",
    "Fonte: https://www.researchgate.net/publication/228569970_Thermodynamic_Pareto_optimization_of_turbojet_engines_using_multi-objective_genetic_algorithms</div>\n",
    "\n",
    "Durante a geração de P(t+1) calcula-se para cada indivíduo seu ranking e distância de agrupamento, necessários na hora de comparar as soluções e obter a melhor através do operador crowded-comparison.\n",
    "\n",
    "Agora, sobre a nova população P(t+1) de tamanho N utilizamos operadores de seleção, mutação e cruzamento para criar a nova população Q(t+1) de tamanho N. \n",
    "\n",
    "Este processo se repete até que um critério de parada seja atingido. A função NSGA2 é composta por outras funções auxiliares, conforme descrito a seguir.\n"
   ]
  },
  {
   "cell_type": "code",
   "execution_count": 1,
   "metadata": {
    "collapsed": true
   },
   "outputs": [],
   "source": [
    "#função responsável por determinar a dominância de um indivíduo sobre o outro.\n",
    "#ind1 dominará ind2 se:\n",
    "#    - ind1 e ind2 forem diferentes entre si e \n",
    "#    - ind1 preceder ind2\n",
    "def dominates(ind1, ind2):\n",
    "    \n",
    "    #verifica igualdade\n",
    "    r1 = np.array_equal(ind1, ind2)\n",
    "    if r1 == True:\n",
    "        return False\n",
    "    \n",
    "    #verifica a precedência  \n",
    "    for i in range(len(ind1)):               \n",
    "        if ind1[i] > ind2[i]:\n",
    "            return False       \n",
    "        \n",
    "    return True"
   ]
  },
  {
   "cell_type": "code",
   "execution_count": 2,
   "metadata": {
    "collapsed": true
   },
   "outputs": [],
   "source": [
    "#função que identifica as soluções de acordo com cada fronteira existente, classificando-os segundo\n",
    "#    seu nível de não dominância\n",
    "def fast_non_dominated_sort(P):\n",
    "    \n",
    "    #início do loop que analisa cada indivíduo p da população P\n",
    "    for p in P:\n",
    "    \n",
    "        \n",
    "        n_p = 0 #contador de dominância, quantidade de soluções que p domina, todas as soluções da primeira\n",
    "            #fronteira possuem n_p = 0\n",
    "        S_p = list() #lista das soluções dominadas por p\n",
    "        F = list() #lista das fronteiras\n",
    "        \n",
    "        #compara a solução p com as demais soluções da população P, determinando sua relação de dominância\n",
    "        for q in P:\n",
    "    \n",
    "            if dominates(p, q): #se p domina q, q é adicionado ao conjunto de soluções dominadas por p\n",
    "                S_p.append(q) \n",
    "            elif dominates(q, p): #senão o contador de dominância de p é incrementado\n",
    "                n_p = n_p + 1\n",
    "          \n",
    "        #se o contador de dominância do p em questão for igual a zero ele pertencerá à primeira fronteira\n",
    "        if n_p == 0:\n",
    "            p.rank = 1 #soluções da fronteira 1 possuem rank igual a 1\n",
    "            F.append(p) \n",
    "        \n",
    "    \n",
    "    i = 0\n",
    "    for x in F:\n",
    "        Q = [] #armazena os indivíduos da próxima fronteira\n",
    "        \n",
    "        \n",
    "        for p in F[i]:\n",
    "            for q in S_p:\n",
    "                n_q = n_p - 1\n",
    "                \n",
    "                if n_q == 0:\n",
    "                    q_rank = i + 1\n",
    "                    Q.append(q)\n",
    "                    \n",
    "        i = i + 1\n",
    "        if (len(F)-1) == i:\n",
    "            F[i] = Q        \n",
    "            "
   ]
  },
  {
   "cell_type": "code",
   "execution_count": 3,
   "metadata": {
    "collapsed": true
   },
   "outputs": [],
   "source": [
    "def crowding_distance_assignmnet(I):\n",
    "    \n",
    "    l = len(I)\n",
    "    individuals = []\n",
    "\n",
    "    for i in I:\n",
    "        individuals.append((i,0));\n",
    "\n",
    "        \n",
    "        individuals.sort()\n",
    "\n",
    "    return individuals"
   ]
  },
  {
   "cell_type": "code",
   "execution_count": 4,
   "metadata": {
    "collapsed": true
   },
   "outputs": [],
   "source": [
    "def crowded_comparison_operator(ind1, ind2):\n",
    "    \n",
    "    if (ind1.rank < ind2.rank) or ((ind1.rank == ind2.rank) and (ind1.crowding_distance > ind2.crowding_distance)):\n",
    "        return True\n",
    "    else:\n",
    "        return False"
   ]
  },
  {
   "cell_type": "code",
   "execution_count": 5,
   "metadata": {
    "collapsed": true
   },
   "outputs": [],
   "source": [
    "def rodrigoNSGA2(pop,tam):\n",
    "    \n",
    "    #ordeno os indivíduos da população de acordo com sua não-dominância\n",
    "    F = []\n",
    "    F = fast_non_dominated_sort(pop)\n",
    "    \n",
    "    i=1\n",
    "    P = []\n",
    "    while len(P)+len(F) <= N:\n",
    "        crowding_distance_assignmnet(F)\n",
    "        P = P.append(F)\n",
    "        i = i + 1\n",
    "        \n",
    "    #classifica as soluções em ordem decrescente usando o operador crowded_comparison\n",
    "    crowded_comparison_operator(F)\n",
    "    \n",
    "    P = P.append(F[1:(N-len(P))])\n",
    "    Q = make_new_pop(P)\n",
    "    \n",
    "    t = t + 1    \n",
    "    "
   ]
  },
  {
   "cell_type": "code",
   "execution_count": 7,
   "metadata": {
    "collapsed": true
   },
   "outputs": [],
   "source": [
    "import time, array, random, copy, math\n",
    "import numpy as np\n",
    "import pandas as pd\n",
    "\n",
    "from pprint import pprint"
   ]
  },
  {
   "cell_type": "code",
   "execution_count": 8,
   "metadata": {
    "collapsed": true
   },
   "outputs": [],
   "source": [
    "import matplotlib.pyplot as plt\n",
    "%matplotlib inline\n",
    "%config InlineBackend.figure_format = 'retina'\n",
    "plt.rc('text', usetex=False)\n",
    "plt.rc('font', family='serif')\n",
    "plt.rcParams['text.latex.preamble'] ='\\\\usepackage{libertine}\\n\\\\usepackage[utf8]{inputenc}'\n",
    "\n",
    "import seaborn\n",
    "seaborn.set(style='whitegrid')\n",
    "seaborn.set_context('notebook')"
   ]
  },
  {
   "cell_type": "code",
   "execution_count": 9,
   "metadata": {
    "collapsed": true
   },
   "outputs": [],
   "source": [
    "from deap import algorithms, base, benchmarks, tools, creator"
   ]
  },
  {
   "cell_type": "code",
   "execution_count": 10,
   "metadata": {
    "collapsed": true
   },
   "outputs": [],
   "source": [
    "random.seed(a=42)"
   ]
  },
  {
   "cell_type": "code",
   "execution_count": 11,
   "metadata": {
    "collapsed": true
   },
   "outputs": [],
   "source": [
    "creator.create(\"FitnessMin\", base.Fitness, weights=(-1.0,-1.0))\n",
    "#creator.create(\"Individual\", array.array, typecode='d', fitness=creator.FitnessMin)\n",
    "#creator.create(\"Individual\", list, typecode='d', fitness=creator.FitnessMin)\n",
    "#creator.create(\"Individual\", array.array, \n",
    "creator.create(\"Individual\", list, \n",
    "                #typecode='d', \n",
    "                fitness=creator.FitnessMin,\n",
    "                rank = None,\n",
    "                crowding_distance = None,\n",
    "                dominated_solutions = set(),\n",
    "                features = None,\n",
    "                objectives = None,\n",
    "                dominates = None,)"
   ]
  },
  {
   "cell_type": "code",
   "execution_count": 12,
   "metadata": {
    "collapsed": true
   },
   "outputs": [],
   "source": [
    "def uniform(low, up, size=None):\n",
    "    try:\n",
    "        return [random.uniform(a, b) for a, b in zip(low, up)]\n",
    "    except TypeError:\n",
    "        return [random.uniform(a, b) for a, b in zip([low] * size, [up] * size)]"
   ]
  },
  {
   "cell_type": "code",
   "execution_count": 13,
   "metadata": {
    "collapsed": true
   },
   "outputs": [],
   "source": [
    "toolbox = base.Toolbox()"
   ]
  },
  {
   "cell_type": "code",
   "execution_count": 14,
   "metadata": {
    "collapsed": true
   },
   "outputs": [],
   "source": [
    "NDIM = 30 \n",
    "BOUND_LOW, BOUND_UP = 0.0, 1.0\n",
    "toolbox.register(\"evaluate\", lambda ind: benchmarks.dtlz3(ind, 2))"
   ]
  },
  {
   "cell_type": "code",
   "execution_count": 15,
   "metadata": {
    "collapsed": true
   },
   "outputs": [],
   "source": [
    "toolbox.register(\"attr_float\", uniform, BOUND_LOW, BOUND_UP, NDIM)\n",
    "toolbox.register(\"individual\", tools.initIterate, creator.Individual, toolbox.attr_float)\n",
    "toolbox.register(\"population\", tools.initRepeat, list, toolbox.individual)\n",
    "toolbox.register(\"mate\", tools.cxSimulatedBinaryBounded, low=BOUND_LOW, up=BOUND_UP, eta=20.0)\n",
    "toolbox.register(\"mutate\", tools.mutPolynomialBounded, low=BOUND_LOW, up=BOUND_UP, eta=20.0, indpb=1.0/NDIM)\n",
    "#toolbox.register(\"select\", tools.selNSGA2)\n",
    "toolbox.register(\"select\", rodrigoNSGA2)"
   ]
  },
  {
   "cell_type": "code",
   "execution_count": 16,
   "metadata": {
    "collapsed": true
   },
   "outputs": [],
   "source": [
    "toolbox.pop_size = 50\n",
    "toolbox.max_gen = 1000\n",
    "toolbox.mut_prob = 0.2"
   ]
  },
  {
   "cell_type": "code",
   "execution_count": 17,
   "metadata": {
    "collapsed": true
   },
   "outputs": [],
   "source": [
    "#p = toolbox.population(n=toolbox.pop_size)"
   ]
  },
  {
   "cell_type": "code",
   "execution_count": 18,
   "metadata": {
    "collapsed": true
   },
   "outputs": [],
   "source": [
    "#pprint(vars(p[0]))"
   ]
  },
  {
   "cell_type": "code",
   "execution_count": 19,
   "metadata": {
    "collapsed": true
   },
   "outputs": [],
   "source": [
    "#toolbox.select(p[0], len(p[0]))"
   ]
  },
  {
   "cell_type": "code",
   "execution_count": 20,
   "metadata": {
    "collapsed": true
   },
   "outputs": [],
   "source": [
    "def run_ea(toolbox, stats=None, verbose=False):\n",
    "    pop = toolbox.population(n=toolbox.pop_size)\n",
    "    pop = toolbox.select(pop, len(pop))   \n",
    "    return algorithms.eaMuPlusLambda(pop, \n",
    "                                     toolbox, \n",
    "                                     mu=toolbox.pop_size, \n",
    "                                     lambda_=toolbox.pop_size, \n",
    "                                     cxpb=1-toolbox.mut_prob,\n",
    "                                     mutpb=toolbox.mut_prob, \n",
    "                                     stats=stats, \n",
    "                                     ngen=toolbox.max_gen, \n",
    "                                     verbose=verbose)"
   ]
  },
  {
   "cell_type": "code",
   "execution_count": 21,
   "metadata": {},
   "outputs": [
    {
     "ename": "TypeError",
     "evalue": "object of type 'NoneType' has no len()",
     "output_type": "error",
     "traceback": [
      "\u001b[0;31m---------------------------------------------------------------------------\u001b[0m",
      "\u001b[0;31mTypeError\u001b[0m                                 Traceback (most recent call last)",
      "\u001b[0;32m<ipython-input-21-6523b039d75d>\u001b[0m in \u001b[0;36m<module>\u001b[0;34m()\u001b[0m\n\u001b[0;32m----> 1\u001b[0;31m \u001b[0mrun_ea\u001b[0m\u001b[0;34m(\u001b[0m\u001b[0mtoolbox\u001b[0m\u001b[0;34m)\u001b[0m\u001b[0;34m\u001b[0m\u001b[0m\n\u001b[0m",
      "\u001b[0;32m<ipython-input-20-588fee095f0b>\u001b[0m in \u001b[0;36mrun_ea\u001b[0;34m(toolbox, stats, verbose)\u001b[0m\n\u001b[1;32m      1\u001b[0m \u001b[0;32mdef\u001b[0m \u001b[0mrun_ea\u001b[0m\u001b[0;34m(\u001b[0m\u001b[0mtoolbox\u001b[0m\u001b[0;34m,\u001b[0m \u001b[0mstats\u001b[0m\u001b[0;34m=\u001b[0m\u001b[0;32mNone\u001b[0m\u001b[0;34m,\u001b[0m \u001b[0mverbose\u001b[0m\u001b[0;34m=\u001b[0m\u001b[0;32mFalse\u001b[0m\u001b[0;34m)\u001b[0m\u001b[0;34m:\u001b[0m\u001b[0;34m\u001b[0m\u001b[0m\n\u001b[1;32m      2\u001b[0m     \u001b[0mpop\u001b[0m \u001b[0;34m=\u001b[0m \u001b[0mtoolbox\u001b[0m\u001b[0;34m.\u001b[0m\u001b[0mpopulation\u001b[0m\u001b[0;34m(\u001b[0m\u001b[0mn\u001b[0m\u001b[0;34m=\u001b[0m\u001b[0mtoolbox\u001b[0m\u001b[0;34m.\u001b[0m\u001b[0mpop_size\u001b[0m\u001b[0;34m)\u001b[0m\u001b[0;34m\u001b[0m\u001b[0m\n\u001b[0;32m----> 3\u001b[0;31m     \u001b[0mpop\u001b[0m \u001b[0;34m=\u001b[0m \u001b[0mtoolbox\u001b[0m\u001b[0;34m.\u001b[0m\u001b[0mselect\u001b[0m\u001b[0;34m(\u001b[0m\u001b[0mpop\u001b[0m\u001b[0;34m,\u001b[0m \u001b[0mlen\u001b[0m\u001b[0;34m(\u001b[0m\u001b[0mpop\u001b[0m\u001b[0;34m)\u001b[0m\u001b[0;34m)\u001b[0m\u001b[0;34m\u001b[0m\u001b[0m\n\u001b[0m\u001b[1;32m      4\u001b[0m     return algorithms.eaMuPlusLambda(pop, \n\u001b[1;32m      5\u001b[0m                                      \u001b[0mtoolbox\u001b[0m\u001b[0;34m,\u001b[0m\u001b[0;34m\u001b[0m\u001b[0m\n",
      "\u001b[0;32m<ipython-input-5-fb64f8a35c2a>\u001b[0m in \u001b[0;36mrodrigoNSGA2\u001b[0;34m(pop, tam)\u001b[0m\n\u001b[1;32m      6\u001b[0m     \u001b[0mi\u001b[0m\u001b[0;34m=\u001b[0m\u001b[0;36m1\u001b[0m\u001b[0;34m\u001b[0m\u001b[0m\n\u001b[1;32m      7\u001b[0m     \u001b[0mP\u001b[0m \u001b[0;34m=\u001b[0m \u001b[0;34m[\u001b[0m\u001b[0;34m]\u001b[0m\u001b[0;34m\u001b[0m\u001b[0m\n\u001b[0;32m----> 8\u001b[0;31m     \u001b[0;32mwhile\u001b[0m \u001b[0mlen\u001b[0m\u001b[0;34m(\u001b[0m\u001b[0mP\u001b[0m\u001b[0;34m)\u001b[0m\u001b[0;34m+\u001b[0m\u001b[0mlen\u001b[0m\u001b[0;34m(\u001b[0m\u001b[0mF\u001b[0m\u001b[0;34m)\u001b[0m \u001b[0;34m<=\u001b[0m \u001b[0mN\u001b[0m\u001b[0;34m:\u001b[0m\u001b[0;34m\u001b[0m\u001b[0m\n\u001b[0m\u001b[1;32m      9\u001b[0m         \u001b[0mcrowding_distance_assignmnet\u001b[0m\u001b[0;34m(\u001b[0m\u001b[0mF\u001b[0m\u001b[0;34m)\u001b[0m\u001b[0;34m\u001b[0m\u001b[0m\n\u001b[1;32m     10\u001b[0m         \u001b[0mP\u001b[0m \u001b[0;34m=\u001b[0m \u001b[0mP\u001b[0m\u001b[0;34m.\u001b[0m\u001b[0mappend\u001b[0m\u001b[0;34m(\u001b[0m\u001b[0mF\u001b[0m\u001b[0;34m)\u001b[0m\u001b[0;34m\u001b[0m\u001b[0m\n",
      "\u001b[0;31mTypeError\u001b[0m: object of type 'NoneType' has no len()"
     ]
    }
   ],
   "source": [
    "run_ea(toolbox)"
   ]
  },
  {
   "cell_type": "code",
   "execution_count": null,
   "metadata": {},
   "outputs": [],
   "source": [
    "%time res,_ = run_ea(toolbox)"
   ]
  },
  {
   "cell_type": "code",
   "execution_count": null,
   "metadata": {
    "collapsed": true
   },
   "outputs": [],
   "source": [
    "fronts = tools.emo.sortLogNondominated(res, len(res))"
   ]
  },
  {
   "cell_type": "code",
   "execution_count": null,
   "metadata": {
    "collapsed": true
   },
   "outputs": [],
   "source": [
    "plot_colors = seaborn.color_palette(\"Set1\", n_colors=10)\n",
    "fig, ax = plt.subplots(1, figsize=(4,4))\n",
    "for i,inds in enumerate(fronts):\n",
    "    par = [toolbox.evaluate(ind) for ind in inds]\n",
    "    df = pd.DataFrame(par)\n",
    "    df.plot(ax=ax, kind='scatter', label='Front ' + str(i+1), \n",
    "                 x=df.columns[0], y=df.columns[1], \n",
    "                 color=plot_colors[i])\n",
    "plt.xlabel('$f_1(\\mathbf{x})$');plt.ylabel('$f_2(\\mathbf{x})$');"
   ]
  }
 ],
 "metadata": {
  "kernelspec": {
   "display_name": "Python 3",
   "language": "python",
   "name": "python3"
  },
  "language_info": {
   "codemirror_mode": {
    "name": "ipython",
    "version": 3
   },
   "file_extension": ".py",
   "mimetype": "text/x-python",
   "name": "python",
   "nbconvert_exporter": "python",
   "pygments_lexer": "ipython3",
   "version": "3.6.1"
  },
  "latex_envs": {
   "LaTeX_envs_menu_present": true,
   "autocomplete": true,
   "bibliofile": "biblio.bib",
   "cite_by": "apalike",
   "current_citInitial": 1,
   "eqLabelWithNumbers": true,
   "eqNumInitial": 1,
   "hotkeys": {
    "equation": "Ctrl-E",
    "itemize": "Ctrl-I"
   },
   "labels_anchors": false,
   "latex_user_defs": false,
   "report_style_numbering": false,
   "user_envs_cfg": false
  }
 },
 "nbformat": 4,
 "nbformat_minor": 2
}
