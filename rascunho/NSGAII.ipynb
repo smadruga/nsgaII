{
 "cells": [
  {
   "cell_type": "markdown",
   "metadata": {},
   "source": [
    "Importação das bibliotecas necessárias"
   ]
  },
  {
   "cell_type": "code",
   "execution_count": 1,
   "metadata": {
    "collapsed": true
   },
   "outputs": [],
   "source": [
    "import numpy as np"
   ]
  },
  {
   "cell_type": "markdown",
   "metadata": {},
   "source": [
    "Função fast-non-dominated-sort responsável por classificar as soluções."
   ]
  },
  {
   "cell_type": "code",
   "execution_count": 2,
   "metadata": {
    "collapsed": true
   },
   "outputs": [],
   "source": [
    "def fast_non_dominated_sort(population):\n",
    "    n_p = 0\n",
    "    S_p = 0\n",
    "    for p in population:\n",
    "        print(p, p.shape)\n",
    "        \n",
    "        for q in p:\n",
    "            print(q, q.shape)\n",
    "        \n",
    "        n_p = n_p + 1\n",
    "        \n",
    "    #for p in range(len(population)):\n",
    "        #print(p, population(p))\n",
    "        "
   ]
  },
  {
   "cell_type": "code",
   "execution_count": 415,
   "metadata": {
    "collapsed": true
   },
   "outputs": [],
   "source": [
    "def dominates(ind1, ind2):\n",
    "    \n",
    "    r1 = np.array_equal(ind1, ind2)\n",
    "    if r1 == True:\n",
    "        return False\n",
    "    \n",
    "    v = ind1 <= ind2\n",
    "    r2 = True\n",
    "    for b in v:  \n",
    "\n",
    "        if b == False:\n",
    "            return False       \n",
    "        \n",
    "    return True"
   ]
  },
  {
   "cell_type": "code",
   "execution_count": 421,
   "metadata": {
    "collapsed": true
   },
   "outputs": [],
   "source": [
    "def fast_non_dominated_sort(P):\n",
    "\n",
    "    for p in P:\n",
    "        #print(p, p.shape)        \n",
    "\n",
    "        n_p = 0\n",
    "        S_p = list()\n",
    "        F = list()\n",
    "        \n",
    "        for q in P:\n",
    "\n",
    "            if dominates(p, q):\n",
    "                S_p.append(q) \n",
    "            elif dominates(q, p):\n",
    "                n_p = n_p + 1\n",
    "              \n",
    "        if n_p == 0:\n",
    "            p_rank = 1\n",
    "            F.append(p) \n",
    "        \n",
    "    i = 0\n",
    "    for x in F:\n",
    "        Q = list()\n",
    "        \n",
    "        for p in F[i]:\n",
    "            for q in S_p:\n",
    "                n_q = n_p - 1\n",
    "                \n",
    "                if n_q == 0:\n",
    "                    q_rank = i + 1\n",
    "                    Q.append(q)\n",
    "                    \n",
    "        i = i + 1\n",
    "        if (len(F)-1) == i:\n",
    "            F[i] = Q        \n",
    "            "
   ]
  },
  {
   "cell_type": "code",
   "execution_count": 4,
   "metadata": {
    "collapsed": true
   },
   "outputs": [],
   "source": [
    "def crowding_distance_assignmnet(I):\n",
    "    \n",
    "    l = len(I)\n",
    "    individuals = []\n",
    "\n",
    "    for i in I:\n",
    "        individuals.append((i,0));\n",
    "\n",
    "        \n",
    "        individuals.sort()\n",
    "\n",
    "    return individuals"
   ]
  },
  {
   "cell_type": "code",
   "execution_count": 5,
   "metadata": {
    "collapsed": true
   },
   "outputs": [],
   "source": [
    "class Individual(object):\n",
    "    \"\"\"Represents one individual\"\"\"\n",
    "    \n",
    "    def __init__(self):\n",
    "        self.rank = None\n",
    "        self.crowding_distance = None\n",
    "        self.dominated_solutions = set()\n",
    "        self.features = None\n",
    "        self.objectives = None\n",
    "        self.dominates = None\n",
    "        \n",
    "    def set_objectives(self, objectives):\n",
    "        self.objectives = objectives"
   ]
  },
  {
   "cell_type": "code",
   "execution_count": 6,
   "metadata": {
    "collapsed": true
   },
   "outputs": [],
   "source": [
    "class Population(object):\n",
    "    \"\"\"Represents population - a group of Individuals,\n",
    "    can merge with another population\"\"\"\n",
    "    \n",
    "    def __init__(self):\n",
    "        self.population = []\n",
    "        self.fronts = []\n",
    "        \n",
    "    def __len__(self):\n",
    "        return len(self.population)\n",
    "        \n",
    "    def __iter__(self):\n",
    "        \"\"\"Allows for iterating over Individuals\"\"\"\n",
    "        \n",
    "        return self.population.__iter__()\n",
    "        \n",
    "    def extend(self, new_individuals):\n",
    "        \"\"\"Creates new population that consists of\n",
    "        old individuals ans new_individuals\"\"\"\n",
    "        \n",
    "        self.population.extend(new_individuals)"
   ]
  },
  {
   "cell_type": "code",
   "execution_count": 7,
   "metadata": {
    "collapsed": true
   },
   "outputs": [],
   "source": [
    "class Evolution(object):\n",
    "    \n",
    "    def __init__(self, problem, num_of_generations, num_of_individuals):\n",
    "        self.utils = NSGA2Utils(problem, num_of_individuals)\n",
    "\n",
    "        self.population = None\n",
    "        self.num_of_generations = num_of_generations\n",
    "        self.on_generation_finished = []\n",
    "        self.num_of_individuals = num_of_individuals\n",
    "    \n",
    "    def register_on_new_generation(self, fun):\n",
    "        self.on_generation_finished.append(fun)\n",
    "        \n",
    "    def evolve(self):\n",
    "        \n",
    "        self.population = self.utils.create_initial_population()\n",
    "        self.utils.fast_nondominated_sort(self.population)\n",
    "        for front in self.population.fronts:\n",
    "            self.utils.calculate_crowding_distance(front)\n",
    "        children = self.utils.create_children(self.population)\n",
    "        returned_population = None \n",
    "        for i in range(self.num_of_generations):\n",
    "            self.population.extend(children)\n",
    "            self.utils.fast_nondominated_sort(self.population)\n",
    "            new_population = Population()\n",
    "            front_num = 0\n",
    "            while len(new_population) + len(self.population.fronts[front_num]) <= self.num_of_individuals:\n",
    "                self.utils.calculate_crowding_distance(self.population.fronts[front_num])\n",
    "                new_population.extend(self.population.fronts[front_num])\n",
    "                front_num += 1\n",
    "                \n",
    "            sorted(self.population.fronts[front_num], cmp=self.utils.crowding_operator)\n",
    "            new_population.extend(self.population.fronts[front_num][0:self.num_of_individuals-len(new_population)])\n",
    "            returned_population = self.population\n",
    "            self.population = new_population\n",
    "            children = self.utils.create_children(self.population)\n",
    "            for fun in self.on_generation_finished:\n",
    "                fun(returned_population, i)\n",
    "        return returned_population.fronts[0]"
   ]
  },
  {
   "cell_type": "code",
   "execution_count": null,
   "metadata": {
    "collapsed": true
   },
   "outputs": [],
   "source": []
  }
 ],
 "metadata": {
  "kernelspec": {
   "display_name": "Python 3",
   "language": "python",
   "name": "python3"
  },
  "language_info": {
   "codemirror_mode": {
    "name": "ipython",
    "version": 3
   },
   "file_extension": ".py",
   "mimetype": "text/x-python",
   "name": "python",
   "nbconvert_exporter": "python",
   "pygments_lexer": "ipython3",
   "version": "3.6.1"
  },
  "latex_envs": {
   "LaTeX_envs_menu_present": true,
   "autocomplete": true,
   "bibliofile": "biblio.bib",
   "cite_by": "apalike",
   "current_citInitial": 1,
   "eqLabelWithNumbers": true,
   "eqNumInitial": 1,
   "hotkeys": {
    "equation": "Ctrl-E",
    "itemize": "Ctrl-I"
   },
   "labels_anchors": false,
   "latex_user_defs": false,
   "report_style_numbering": false,
   "user_envs_cfg": false
  }
 },
 "nbformat": 4,
 "nbformat_minor": 2
}
