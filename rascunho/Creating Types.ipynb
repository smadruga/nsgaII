{
 "cells": [
  {
   "cell_type": "markdown",
   "metadata": {},
   "source": [
    "The create() function takes at least two arguments, a name for the newly created class and a base class. Any subsequent argument becomes an attribute of the class. As specified in the Fitness documentation, the weights attribute must be a tuple so that multi-objective and single objective fitnesses can be treated the same way. A "
   ]
  },
  {
   "cell_type": "code",
   "execution_count": 1,
   "metadata": {
    "collapsed": true
   },
   "outputs": [],
   "source": [
    "#importação da biblioteca DEAP dos recursos necessários\n",
    "from deap import base, creator\n",
    "\n",
    "#para um problema de minimização\n",
    "creator.create(\"FitnessMin\", base.Fitness, weights=(-1.0,))\n",
    "#deriva de uma lista de fitness do recurso acima\n",
    "creator.create(\"Individual\", list, fitness=creator.FitnessMin)"
   ]
  },
  {
   "cell_type": "code",
   "execution_count": 2,
   "metadata": {
    "collapsed": true
   },
   "outputs": [],
   "source": [
    "#FitnessMulti would be created the same way but using:\n",
    "creator.create(\"FitnessMulti\", base.Fitness, weights=(-1.0, 1.0))\n",
    "#This code produces a fitness that minimizes the first objective and maximize the second one."
   ]
  },
  {
   "cell_type": "code",
   "execution_count": 3,
   "metadata": {
    "collapsed": true
   },
   "outputs": [],
   "source": [
    "import random\n",
    "\n",
    "from deap import base, creator, tools\n",
    "import numpy as numpy\n",
    "import array as array\n",
    "\n",
    "\n",
    "creator.create(\"FitnessMax\", base.Fitness, weights=(1.0,))\n",
    "creator.create(\"Individual1\", list, fitness=creator.FitnessMax)\n",
    "creator.create(\"Individual2\", array.array, typecode=\"d\", fitness=creator.FitnessMax)\n",
    "creator.create(\"Individual3\", numpy.ndarray, fitness=creator.FitnessMax)\n",
    "\n",
    "IND_SIZE=10\n",
    "\n",
    "toolbox = base.Toolbox()\n",
    "toolbox.register(\"attr_float\", random.random)\n",
    "toolbox.register(\"individual1\", tools.initRepeat, creator.Individual1,\n",
    "                 toolbox.attr_float, n=IND_SIZE)\n",
    "toolbox.register(\"individual2\", tools.initRepeat, creator.Individual2,\n",
    "                 toolbox.attr_float, n=IND_SIZE)\n",
    "toolbox.register(\"individual3\", tools.initRepeat, creator.Individual3,\n",
    "                 toolbox.attr_float, n=IND_SIZE)"
   ]
  },
  {
   "cell_type": "markdown",
   "metadata": {},
   "source": [
    "##### List of Floats\n",
    "\n",
    "The first individual created will be a simple list containing floats."
   ]
  },
  {
   "cell_type": "code",
   "execution_count": 4,
   "metadata": {},
   "outputs": [
    {
     "data": {
      "text/plain": [
       "[0.24643857765123323,\n",
       " 0.9516494784766419,\n",
       " 0.7989717651919789,\n",
       " 0.25925269588032307,\n",
       " 0.9919646121954666,\n",
       " 0.06559946046175003,\n",
       " 0.32037055112775104,\n",
       " 0.13328421628239095,\n",
       " 0.42393926585262076,\n",
       " 0.2749639983686878]"
      ]
     },
     "execution_count": 4,
     "metadata": {},
     "output_type": "execute_result"
    }
   ],
   "source": [
    "toolbox.individual1()"
   ]
  },
  {
   "cell_type": "code",
   "execution_count": 5,
   "metadata": {},
   "outputs": [
    {
     "data": {
      "text/plain": [
       "array('d', [0.06602803258586154, 0.5627691778866947, 0.9671355367687625, 0.668847458248458, 0.08646868722319345, 0.1621970396340453, 0.8170265948724235, 0.5653176193262146, 0.613396932911355, 0.7594473829559393])"
      ]
     },
     "execution_count": 5,
     "metadata": {},
     "output_type": "execute_result"
    }
   ],
   "source": [
    "toolbox.individual2()"
   ]
  },
  {
   "cell_type": "code",
   "execution_count": 6,
   "metadata": {},
   "outputs": [
    {
     "data": {
      "text/plain": [
       "Individual3([ 0.10986756,  0.70350512,  0.58799458,  0.11305006,  0.58438031,\n",
       "        0.9861501 ,  0.62776642,  0.18412598,  0.69716903,  0.4219705 ])"
      ]
     },
     "execution_count": 6,
     "metadata": {},
     "output_type": "execute_result"
    }
   ],
   "source": [
    "toolbox.individual3()"
   ]
  },
  {
   "cell_type": "markdown",
   "metadata": {},
   "source": [
    "##### Permutation\n",
    "\n",
    "An individual for the permutation representation is almost similar to the general list individual. In fact they both inherit from the basic list type. The only difference is that instead of filling the list with a series of floats, we need to generate a random permutation and provide that permutation to the individual."
   ]
  },
  {
   "cell_type": "code",
   "execution_count": 7,
   "metadata": {
    "collapsed": true
   },
   "outputs": [],
   "source": [
    "import random\n",
    "\n",
    "from deap import base\n",
    "from deap import creator\n",
    "from deap import tools\n",
    "\n",
    "creator.create(\"FitnessMin\", base.Fitness, weights=(-1.0,))\n",
    "creator.create(\"Individual\", list, fitness=creator.FitnessMin)\n",
    "\n",
    "IND_SIZE=10\n",
    "\n",
    "toolbox = base.Toolbox()\n",
    "toolbox.register(\"indices\", random.sample, range(IND_SIZE), IND_SIZE)\n",
    "toolbox.register(\"individual\", tools.initIterate, creator.Individual,\n",
    "                 toolbox.indices)"
   ]
  },
  {
   "cell_type": "code",
   "execution_count": 8,
   "metadata": {},
   "outputs": [
    {
     "data": {
      "text/plain": [
       "[1, 6, 4, 5, 2, 7, 3, 0, 8, 9]"
      ]
     },
     "execution_count": 8,
     "metadata": {},
     "output_type": "execute_result"
    }
   ],
   "source": [
    "toolbox.individual()"
   ]
  },
  {
   "cell_type": "markdown",
   "metadata": {},
   "source": [
    "##### Arithmetic Expression\n",
    "\n",
    "The next individual that is commonly used is a prefix tree of mathematical expressions."
   ]
  },
  {
   "cell_type": "code",
   "execution_count": 9,
   "metadata": {
    "collapsed": true
   },
   "outputs": [],
   "source": [
    "import operator\n",
    "\n",
    "from deap import base\n",
    "from deap import creator\n",
    "from deap import gp\n",
    "from deap import tools\n",
    "\n",
    "pset = gp.PrimitiveSet(\"MAIN\", arity=1)\n",
    "pset.addPrimitive(operator.add, 2)\n",
    "pset.addPrimitive(operator.sub, 2)\n",
    "pset.addPrimitive(operator.mul, 2)\n",
    "\n",
    "creator.create(\"FitnessMin\", base.Fitness, weights=(-1.0,))\n",
    "creator.create(\"Individual\", gp.PrimitiveTree, fitness=creator.FitnessMin,\n",
    "               pset=pset)\n",
    "\n",
    "toolbox = base.Toolbox()\n",
    "toolbox.register(\"expr\", gp.genHalfAndHalf, pset=pset, min_=1, max_=2)\n",
    "toolbox.register(\"individual\", tools.initIterate, creator.Individual,\n",
    "                 toolbox.expr)"
   ]
  },
  {
   "cell_type": "code",
   "execution_count": 10,
   "metadata": {},
   "outputs": [
    {
     "data": {
      "text/plain": [
       "[<deap.gp.Primitive at 0x7fd7a82ca8b8>,\n",
       " <deap.gp.Terminal at 0x7fd7a82d78b8>,\n",
       " <deap.gp.Terminal at 0x7fd7a82d78b8>]"
      ]
     },
     "execution_count": 10,
     "metadata": {},
     "output_type": "execute_result"
    }
   ],
   "source": [
    "toolbox.individual()"
   ]
  },
  {
   "cell_type": "markdown",
   "metadata": {},
   "source": [
    "#### Evolution Strategy\n",
    "\n",
    "Evolution strategies individuals are slightly different as they contain generally two lists, one for the actual individual and one for its mutation parameters."
   ]
  },
  {
   "cell_type": "code",
   "execution_count": 11,
   "metadata": {
    "collapsed": true
   },
   "outputs": [],
   "source": [
    "import array\n",
    "import random\n",
    "\n",
    "from deap import base\n",
    "from deap import creator\n",
    "from deap import tools\n",
    "\n",
    "creator.create(\"FitnessMin\", base.Fitness, weights=(-1.0,))\n",
    "creator.create(\"Individual\", array.array, typecode=\"d\",\n",
    "               fitness=creator.FitnessMin, strategy=None)\n",
    "creator.create(\"Strategy\", array.array, typecode=\"d\")\n",
    "\n",
    "def initES(icls, scls, size, imin, imax, smin, smax):\n",
    "    ind = icls(random.uniform(imin, imax) for _ in range(size))\n",
    "    ind.strategy = scls(random.uniform(smin, smax) for _ in range(size))\n",
    "    return ind\n",
    "\n",
    "IND_SIZE = 10\n",
    "MIN_VALUE, MAX_VALUE = -5., 5.\n",
    "MIN_STRAT, MAX_STRAT = -1., 1. \n",
    "\n",
    "toolbox = base.Toolbox()\n",
    "toolbox.register(\"individual\", initES, creator.Individual,\n",
    "                 creator.Strategy, IND_SIZE, MIN_VALUE, MAX_VALUE, MIN_STRAT, \n",
    "                 MAX_STRAT)"
   ]
  },
  {
   "cell_type": "code",
   "execution_count": 12,
   "metadata": {},
   "outputs": [
    {
     "data": {
      "text/plain": [
       "array('d', [3.164859469264206, -1.0032138039766414, 0.8460881895156733, -4.581236028341523, -2.0770072018691965, -1.4317873323199293, -4.471546962437544, -0.9285804111393334, 2.9024705645121305, 0.07074657292366204])"
      ]
     },
     "execution_count": 12,
     "metadata": {},
     "output_type": "execute_result"
    }
   ],
   "source": [
    "toolbox.individual()"
   ]
  },
  {
   "cell_type": "markdown",
   "metadata": {},
   "source": [
    "#### Particle\n",
    "\n",
    "A particle is another special type of individual as it usually has a speed and generally remember its best position."
   ]
  },
  {
   "cell_type": "code",
   "execution_count": 13,
   "metadata": {
    "collapsed": true
   },
   "outputs": [],
   "source": [
    "import random\n",
    "\n",
    "from deap import base\n",
    "from deap import creator\n",
    "from deap import tools\n",
    "\n",
    "creator.create(\"FitnessMax\", base.Fitness, weights=(1.0, 1.0))\n",
    "creator.create(\"Particle\", list, fitness=creator.FitnessMax, speed=None,\n",
    "               smin=None, smax=None, best=None)\n",
    "\n",
    "def initParticle(pcls, size, pmin, pmax, smin, smax):\n",
    "    part = pcls(random.uniform(pmin, pmax) for _ in range(size))\n",
    "    part.speed = [random.uniform(smin, smax) for _ in range(size)]\n",
    "    part.smin = smin\n",
    "    part.smax = smax\n",
    "    return part\n",
    "\n",
    "toolbox = base.Toolbox()\n",
    "toolbox.register(\"particle\", initParticle, creator.Particle, size=2,\n",
    "                 pmin=-6, pmax=6, smin=-3, smax=3)"
   ]
  },
  {
   "cell_type": "code",
   "execution_count": 14,
   "metadata": {},
   "outputs": [
    {
     "data": {
      "text/plain": [
       "[-3.7874751809877925, -3.226685717214785]"
      ]
     },
     "execution_count": 14,
     "metadata": {},
     "output_type": "execute_result"
    }
   ],
   "source": [
    "toolbox.particle()"
   ]
  },
  {
   "cell_type": "code",
   "execution_count": 15,
   "metadata": {},
   "outputs": [],
   "source": [
    "#A Funky One\n",
    "\n",
    "import random\n",
    "\n",
    "from deap import base\n",
    "from deap import creator\n",
    "from deap import tools\n",
    "\n",
    "creator.create(\"FitnessMax\", base.Fitness, weights=(1.0, 1.0))\n",
    "creator.create(\"Individual\", list, fitness=creator.FitnessMax)\n",
    "\n",
    "toolbox = base.Toolbox()\n",
    "\n",
    "INT_MIN, INT_MAX = 5, 10\n",
    "FLT_MIN, FLT_MAX = -0.2, 0.8\n",
    "N_CYCLES = 4\n",
    "\n",
    "toolbox.register(\"attr_int\", random.randint, INT_MIN, INT_MAX)\n",
    "toolbox.register(\"attr_flt\", random.uniform, FLT_MIN, FLT_MAX)\n",
    "toolbox.register(\"individual\", tools.initCycle, creator.Individual,\n",
    "                 (toolbox.attr_int, toolbox.attr_flt), n=N_CYCLES)"
   ]
  },
  {
   "cell_type": "code",
   "execution_count": 16,
   "metadata": {},
   "outputs": [
    {
     "data": {
      "text/plain": [
       "[8,\n",
       " 0.41975149506497816,\n",
       " 10,\n",
       " 0.15853458732325515,\n",
       " 9,\n",
       " 0.6993836289899276,\n",
       " 6,\n",
       " 0.4922740442185129]"
      ]
     },
     "execution_count": 16,
     "metadata": {},
     "output_type": "execute_result"
    }
   ],
   "source": [
    "toolbox.individual()"
   ]
  },
  {
   "cell_type": "markdown",
   "metadata": {},
   "source": [
    "### Population\n",
    "\n",
    "Populations are much like individuals. Instead of being initialized with attributes, they are filled with individuals, strategies or particles."
   ]
  },
  {
   "cell_type": "code",
   "execution_count": 17,
   "metadata": {},
   "outputs": [
    {
     "data": {
      "text/plain": [
       "[[6,\n",
       "  0.25281096771250416,\n",
       "  8,\n",
       "  0.05803133195448856,\n",
       "  6,\n",
       "  0.2482148733365625,\n",
       "  10,\n",
       "  0.7124757756904154],\n",
       " [7,\n",
       "  0.15481569755092833,\n",
       "  5,\n",
       "  0.6207432946708353,\n",
       "  8,\n",
       "  0.7515881651546796,\n",
       "  6,\n",
       "  0.7629323525347351],\n",
       " [7,\n",
       "  0.7841224499374515,\n",
       "  10,\n",
       "  0.0767901394814699,\n",
       "  7,\n",
       "  0.7174858402569939,\n",
       "  5,\n",
       "  0.29488235792637446]]"
      ]
     },
     "execution_count": 17,
     "metadata": {},
     "output_type": "execute_result"
    }
   ],
   "source": [
    "#Bag\n",
    "toolbox.register(\"population\", tools.initRepeat, list, toolbox.individual)\n",
    "toolbox.population(n=3)"
   ]
  },
  {
   "cell_type": "code",
   "execution_count": 18,
   "metadata": {},
   "outputs": [
    {
     "data": {
      "text/plain": [
       "[[[6,\n",
       "   0.13788129927446185,\n",
       "   8,\n",
       "   0.5013172131930987,\n",
       "   5,\n",
       "   0.5614584384924746,\n",
       "   6,\n",
       "   0.3777796046885797],\n",
       "  [9,\n",
       "   -0.1284952842520402,\n",
       "   8,\n",
       "   0.46996553228634347,\n",
       "   8,\n",
       "   0.16438948589283703,\n",
       "   8,\n",
       "   0.524916527688815]],\n",
       " [[10,\n",
       "   -0.0836855038568966,\n",
       "   8,\n",
       "   0.545858794296407,\n",
       "   5,\n",
       "   0.2284120558965262,\n",
       "   9,\n",
       "   0.3398004167176258],\n",
       "  [7,\n",
       "   0.44705910315984826,\n",
       "   6,\n",
       "   0.25216994052172,\n",
       "   5,\n",
       "   0.5451282565952886,\n",
       "   7,\n",
       "   0.02806134237004415]]]"
      ]
     },
     "execution_count": 18,
     "metadata": {},
     "output_type": "execute_result"
    }
   ],
   "source": [
    "#Grid\n",
    "N_COL, N_ROW = 2, 2\n",
    "\n",
    "toolbox.register(\"row\", tools.initRepeat, list, toolbox.individual, n=N_COL)\n",
    "toolbox.register(\"population\", tools.initRepeat, list, toolbox.row, n=N_ROW)\n",
    "\n",
    "toolbox.population()"
   ]
  },
  {
   "cell_type": "code",
   "execution_count": 19,
   "metadata": {},
   "outputs": [
    {
     "ename": "AttributeError",
     "evalue": "'Toolbox' object has no attribute 'particle'",
     "output_type": "error",
     "traceback": [
      "\u001b[0;31m---------------------------------------------------------------------------\u001b[0m",
      "\u001b[0;31mAttributeError\u001b[0m                            Traceback (most recent call last)",
      "\u001b[0;32m<ipython-input-19-d86fecdab13f>\u001b[0m in \u001b[0;36m<module>\u001b[0;34m()\u001b[0m\n\u001b[1;32m      1\u001b[0m \u001b[0;31m#Swarm\u001b[0m\u001b[0;34m\u001b[0m\u001b[0;34m\u001b[0m\u001b[0m\n\u001b[1;32m      2\u001b[0m \u001b[0mcreator\u001b[0m\u001b[0;34m.\u001b[0m\u001b[0mcreate\u001b[0m\u001b[0;34m(\u001b[0m\u001b[0;34m\"Swarm\"\u001b[0m\u001b[0;34m,\u001b[0m \u001b[0mlist\u001b[0m\u001b[0;34m,\u001b[0m \u001b[0mgbest\u001b[0m\u001b[0;34m=\u001b[0m\u001b[0;32mNone\u001b[0m\u001b[0;34m,\u001b[0m \u001b[0mgbestfit\u001b[0m\u001b[0;34m=\u001b[0m\u001b[0mcreator\u001b[0m\u001b[0;34m.\u001b[0m\u001b[0mFitnessMax\u001b[0m\u001b[0;34m)\u001b[0m\u001b[0;34m\u001b[0m\u001b[0m\n\u001b[0;32m----> 3\u001b[0;31m \u001b[0mtoolbox\u001b[0m\u001b[0;34m.\u001b[0m\u001b[0mregister\u001b[0m\u001b[0;34m(\u001b[0m\u001b[0;34m\"swarm\"\u001b[0m\u001b[0;34m,\u001b[0m \u001b[0mtools\u001b[0m\u001b[0;34m.\u001b[0m\u001b[0minitRepeat\u001b[0m\u001b[0;34m,\u001b[0m \u001b[0mcreator\u001b[0m\u001b[0;34m.\u001b[0m\u001b[0mSwarm\u001b[0m\u001b[0;34m,\u001b[0m \u001b[0mtoolbox\u001b[0m\u001b[0;34m.\u001b[0m\u001b[0mparticle\u001b[0m\u001b[0;34m)\u001b[0m\u001b[0;34m\u001b[0m\u001b[0m\n\u001b[0m\u001b[1;32m      4\u001b[0m \u001b[0;34m\u001b[0m\u001b[0m\n\u001b[1;32m      5\u001b[0m \u001b[0mtoolbox\u001b[0m\u001b[0;34m.\u001b[0m\u001b[0mswarm\u001b[0m\u001b[0;34m(\u001b[0m\u001b[0;34m)\u001b[0m\u001b[0;34m\u001b[0m\u001b[0m\n",
      "\u001b[0;31mAttributeError\u001b[0m: 'Toolbox' object has no attribute 'particle'"
     ]
    }
   ],
   "source": [
    "#Swarm\n",
    "creator.create(\"Swarm\", list, gbest=None, gbestfit=creator.FitnessMax)\n",
    "toolbox.register(\"swarm\", tools.initRepeat, creator.Swarm, toolbox.particle)\n",
    "\n",
    "toolbox.swarm()"
   ]
  },
  {
   "cell_type": "code",
   "execution_count": null,
   "metadata": {},
   "outputs": [],
   "source": [
    "toolbox.register(\"deme\", tools.initRepeat, list, toolbox.individual)\n",
    "\n",
    "DEME_SIZES = 10, 50, 100\n",
    "population = [toolbox.deme(5) for i in DEME_SIZES]\n",
    "\n",
    "toolbox.deme()"
   ]
  },
  {
   "cell_type": "markdown",
   "metadata": {},
   "source": [
    "#### Seeding a Population\n",
    "\n",
    "Sometimes, a first guess population can be used to initialize an evolutionary algorithm. The key idea to initialize a population with not random individuals is to have an individual initializer that takes a content as argument."
   ]
  },
  {
   "cell_type": "code",
   "execution_count": null,
   "metadata": {},
   "outputs": [],
   "source": [
    "import json\n",
    "\n",
    "from deap import base\n",
    "from deap import creator\n",
    "\n",
    "creator.create(\"FitnessMax\", base.Fitness, weights=(1.0, 1.0))\n",
    "creator.create(\"Individual\", list, fitness=creator.FitnessMax)\n",
    "\n",
    "def initIndividual(icls, content):\n",
    "    return icls(content)\n",
    "\n",
    "def initPopulation(pcls, ind_init, filename):\n",
    "    with open(filename, \"r\") as pop_file:\n",
    "        contents = json.load(pop_file)\n",
    "    return pcls(ind_init(c) for c in contents)\n",
    "\n",
    "toolbox = base.Toolbox()\n",
    "\n",
    "toolbox.register(\"individual_guess\", initIndividual, creator.Individual)\n",
    "#toolbox.register(\"population_guess\", initPopulation, list, toolbox.individual_guess, \"my_guess.json\")\n",
    "toolbox.register(\"population_guess\", initPopulation, list, creator.Individual, \"my_guess.json\")\n",
    "\n",
    "population = toolbox.population_guess()"
   ]
  },
  {
   "cell_type": "code",
   "execution_count": null,
   "metadata": {
    "collapsed": true
   },
   "outputs": [],
   "source": []
  },
  {
   "cell_type": "code",
   "execution_count": null,
   "metadata": {
    "collapsed": true
   },
   "outputs": [],
   "source": []
  }
 ],
 "metadata": {
  "kernelspec": {
   "display_name": "Python 3",
   "language": "python",
   "name": "python3"
  },
  "language_info": {
   "codemirror_mode": {
    "name": "ipython",
    "version": 3
   },
   "file_extension": ".py",
   "mimetype": "text/x-python",
   "name": "python",
   "nbconvert_exporter": "python",
   "pygments_lexer": "ipython3",
   "version": "3.6.1"
  },
  "latex_envs": {
   "LaTeX_envs_menu_present": true,
   "autocomplete": true,
   "bibliofile": "biblio.bib",
   "cite_by": "apalike",
   "current_citInitial": 1,
   "eqLabelWithNumbers": true,
   "eqNumInitial": 1,
   "hotkeys": {
    "equation": "Ctrl-E",
    "itemize": "Ctrl-I"
   },
   "labels_anchors": false,
   "latex_user_defs": false,
   "report_style_numbering": false,
   "user_envs_cfg": false
  }
 },
 "nbformat": 4,
 "nbformat_minor": 2
}
