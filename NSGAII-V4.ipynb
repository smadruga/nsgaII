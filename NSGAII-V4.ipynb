{
 "cells": [
  {
   "cell_type": "markdown",
   "metadata": {},
   "source": [
    "### Algoritmo NSGAII\n",
    "\n",
    "O Algoritmo NSGAII trabalha como um operador de seleção de indivíduos sobre uma população. É mais rápido e possui uma menor complexidade computacional se comparado com outros algoritmos notórios. A adoção do método elitista garante uma maior velocidade de sua execução.\n",
    "\n",
    "Inicialmente uma população P(t) de tamanho N (t=0) é criada aleatoriamente e ordenada de acordo com sua não-dominância. Para cada solução é atribuído um valor de fitness (ou rank) equivalente ao seu nível de não-dominância, sendo o nível 1 o melhor, nível 2 o melhor seguinte e etc.\n",
    "\n",
    "Em seguida Q(t), de tamanho N e t=0, é gerado utilizando operadores de seleção de torneiro binário, recombinação e mutação.\n",
    "\n",
    "Feito isso, combina-se P(t) e Q(t) (pais e filhos) obtendo-se R(t) de tamanho 2N. O elitismo é garantido neste processo pois, até o momento, todos os indivíduos gerados estão preservados. \n",
    "\n",
    "As soluções de R(t) são ordenadas de acordo com sua não-dominância, formando as fronteiras, desde F1 (fronteira que contém as melhores soluções) até a última identificada. O pior caso ocorre quando para cada fronteira há apenas uma solução.\n",
    "\n",
    "O objetivo seguinte é obter a próxima geração P(t+1) de tamanho N a partir de R(t). Logo, se o tamanho da fronteira F1 de R(t) for menor que N todas as soluções de F1 passarão a pertencer a P(t+1). E soluções das fronteiras seguintes são adicionadas a P(t+1) até que seu tamanho seja N, de acordo com o ranking de não dominância.\n",
    "\n",
    "<div align='center'><img src='https://www.researchgate.net/profile/N_Nariman-Zadeh/publication/228569970/figure/fig1/AS:302014627106822@1449017306661/Fig-1-Basics-of-NSGA-II-procedure.png' width='56%' align='center'/>\n",
    "Fonte: https://www.researchgate.net/publication/228569970_Thermodynamic_Pareto_optimization_of_turbojet_engines_using_multi-objective_genetic_algorithms</div>\n",
    "\n",
    "Durante a geração de P(t+1) calcula-se para cada indivíduo seu ranking e distância de agrupamento, necessários na hora de comparar as soluções e obter a melhor através do operador crowded-comparison.\n",
    "\n",
    "Agora, sobre a nova população P(t+1) de tamanho N utilizamos operadores de seleção, mutação e cruzamento para criar a nova população Q(t+1) de tamanho N. \n",
    "\n",
    "Este processo se repete até que um critério de parada seja atingido. A função NSGA2 é composta por outras funções auxiliares, conforme descrito a seguir.\n"
   ]
  },
  {
   "cell_type": "code",
   "execution_count": 1,
   "metadata": {
    "collapsed": true
   },
   "outputs": [],
   "source": [
    "#função responsável por determinar a dominância de um indivíduo sobre o outro.\n",
    "#ind1 dominará ind2 se:\n",
    "#    - ind1 e ind2 forem diferentes entre si e \n",
    "#    - ind1 preceder ind2\n",
    "def dominates(ind1, ind2):\n",
    "    \n",
    "    #verifica igualdade\n",
    "    #r1 = np.array_equal(ind1, ind2)\n",
    "    #if r1 == True:\n",
    "    #    return False\n",
    "    \n",
    "    #verifica a precedência  \n",
    "    #for i in range(len(ind1)):               \n",
    "    #    if ind1[i] > ind2[i]:\n",
    "    #        return False       \n",
    "        \n",
    "    #return True\n",
    "    \n",
    "    'Returns `True` if `ind1` dominates `ind2` - assumes min. problem.'\n",
    "    extrictly_better = False\n",
    "    \n",
    "    for obj1 in ind1.fitness.values:        \n",
    "        for obj2 in ind2.fitness.values:\n",
    "            \n",
    "            if obj1 > obj2:                \n",
    "                return False\n",
    "            if not extrictly_better and obj1 < obj2:\n",
    "                extrictly_better = True\n",
    "                \n",
    "    return extrictly_better    "
   ]
  },
  {
   "cell_type": "code",
   "execution_count": 2,
   "metadata": {
    "collapsed": true
   },
   "outputs": [],
   "source": [
    "#função que identifica as soluções de acordo com cada fronteira existente, classificando-os segundo\n",
    "#    seu nível de não dominância\n",
    "def fast_non_dominated_sort(P):\n",
    "    \n",
    "    F = {} #lista(dicionário) das fronteiras\n",
    "   \n",
    "    #início do loop que analisa cada indivíduo p da população P\n",
    "    #este primeiro laço é responsável por identificar os indivíduos da primeira fronteira\n",
    "    for p in P:\n",
    "    \n",
    "        \n",
    "        n_p = 0 #contador de dominância, quantidade de soluções que p domina, todas as soluções da primeira\n",
    "            #fronteira possuem n_p = 0\n",
    "        S_p = [] #lista das soluções dominadas por p\n",
    "        \n",
    "        #compara a solução p com as demais soluções da população P, determinando sua relação de dominância\n",
    "        for q in P:\n",
    "            \n",
    "            if dominates(p, q): #se p domina q, q é adicionado ao conjunto de soluções dominadas por p\n",
    "                S_p.append(q) \n",
    "                #p.dominated_solutions.append(q)\n",
    "            elif dominates(q, p): #senão o contador de dominância de p é incrementado\n",
    "                n_p = n_p + 1\n",
    "            #print('p= ', p, 'q= ', q, '\\n', dominates(p, q), dominates(q, p))\n",
    "          \n",
    "        #se o contador de dominância do p em questão for igual a zero ele pertencerá à primeira fronteira\n",
    "        if n_p == 0:\n",
    "            p.rank = 1 #soluções da fronteira 1 possuem rank igual a 1           \n",
    "            if 1 in F:\n",
    "                F[1].append(p) \n",
    "                #print('>>> ', F[1])\n",
    "            else:\n",
    "                F[1] = [p] \n",
    "                #print('### ', F[1])\n",
    "                #print('###\\n ')\n",
    "        \n",
    "        p.dominated_solutions = S_p\n",
    "        p.domination_counter = n_p\n",
    "        \n",
    "        #print('sp=', S_p, 'np=', n_p, '############################\\n ')\n",
    "        \n",
    "    #print('&&& ', F[1])\n",
    "    #este segundo laço é responsável por identificar os indivíduos das demais fronteiras\n",
    "    i = 1\n",
    "    for x in F[i]:\n",
    "        Q = [] #armazena os indivíduos da próxima fronteira     \n",
    "        \n",
    "        for p in F[i]:\n",
    "            #for q in S_p:\n",
    "            for q in p.dominated_solutions:\n",
    "                #n_q = p.domination_counter - 1\n",
    "                q.domination_counter = q.domination_counter - 1\n",
    "                \n",
    "                if q.domination_counter == 0:\n",
    "                    q.rank = i + 1\n",
    "                    Q.append(q)\n",
    "                    \n",
    "                #print('n_q= ', q.domination_counter, 'p= ', p, 'q= ', q, '\\n\\n', 'pds=', p.dominated_solutions, 'pdc', p.domination_counter)\n",
    "                    \n",
    "        i = i + 1\n",
    "        F[i] = Q         \n",
    "        \n",
    "    return F"
   ]
  },
  {
   "cell_type": "code",
   "execution_count": 3,
   "metadata": {
    "collapsed": true
   },
   "outputs": [],
   "source": [
    "def crowding_distance_assignmnetBKP(I):\n",
    "    \n",
    "    l = len(I)\n",
    "    individuals = []\n",
    "\n",
    "    for i in I:\n",
    "        individuals.append((i,0));\n",
    "        \n",
    "        individuals.sort()\n",
    "\n",
    "    return individuals"
   ]
  },
  {
   "cell_type": "code",
   "execution_count": 4,
   "metadata": {
    "collapsed": true
   },
   "outputs": [],
   "source": [
    "def crowding_distance_assignmnet(I):\n",
    "    \n",
    "        if len(l) > 0:\n",
    "            solutions_num = len(l)\n",
    "            for i in l:\n",
    "                i.crowding_distance = 0\n",
    "            \n",
    "            for m in range(len(l[0].objectives)):\n",
    "                l = sorted(l, cmp=functools.partial(self.__sort_objective, m=m))\n",
    "                l[0].crowding_distance = self.problem.max_objectives[m]\n",
    "                l[solutions_num-1].crowding_distance = self.problem.max_objectives[m]\n",
    "                for index, value in enumerate(front[1:solutions_num-1]):\n",
    "                    l[index].crowding_distance = (front[index+1].crowding_distance - front[index-1].crowding_distance) / (self.problem.max_objectives[m] - self.problem.min_objectives[m])"
   ]
  },
  {
   "cell_type": "code",
   "execution_count": 5,
   "metadata": {
    "collapsed": true
   },
   "outputs": [],
   "source": [
    "def crowded_comparison_operator(ind1, ind2):\n",
    "    \n",
    "    if (ind1.rank < ind2.rank) or ((ind1.rank == ind2.rank) and (ind1.crowding_distance > ind2.crowding_distance)):\n",
    "        return True\n",
    "    else:\n",
    "        return False"
   ]
  },
  {
   "cell_type": "code",
   "execution_count": 6,
   "metadata": {
    "collapsed": true
   },
   "outputs": [],
   "source": [
    "def rodrigoNSGA2(pop,tam):\n",
    "    \n",
    "    #ordeno os indivíduos da população de acordo com sua não-dominância\n",
    "    F = fast_non_dominated_sort(pop)\n",
    "    \n",
    "    i=1\n",
    "    P = {}\n",
    "    P[t+1] = 0\n",
    "    while len(P[t+1])+len(F[i]) <= tam:\n",
    "        crowding_distance_assignmnet(F[i])\n",
    "        P[t+1] = P[t+1].append(F[i])\n",
    "        i = i + 1\n",
    "        \n",
    "    #classifica as soluções em ordem decrescente usando o operador crowded_comparison\n",
    "    crowded_comparison_operator(F[i])\n",
    "    \n",
    "    P[t+1] = P[t+1].append(F[i][1:(tam - len(P[t+1]))])\n",
    "    Q[t+1] = make_new_pop(P[t+1])\n",
    "    \n",
    "    t = t + 1    \n",
    "    "
   ]
  },
  {
   "cell_type": "code",
   "execution_count": 7,
   "metadata": {
    "collapsed": true
   },
   "outputs": [],
   "source": [
    "import time, array, random, copy, math\n",
    "import numpy as np\n",
    "import pandas as pd\n",
    "\n",
    "from pprint import pprint"
   ]
  },
  {
   "cell_type": "code",
   "execution_count": 8,
   "metadata": {
    "collapsed": true
   },
   "outputs": [],
   "source": [
    "import matplotlib.pyplot as plt\n",
    "%matplotlib inline\n",
    "%config InlineBackend.figure_format = 'retina'\n",
    "plt.rc('text', usetex=False)\n",
    "plt.rc('font', family='serif')\n",
    "plt.rcParams['text.latex.preamble'] ='\\\\usepackage{libertine}\\n\\\\usepackage[utf8]{inputenc}'\n",
    "\n",
    "import seaborn\n",
    "seaborn.set(style='whitegrid')\n",
    "seaborn.set_context('notebook')"
   ]
  },
  {
   "cell_type": "code",
   "execution_count": 9,
   "metadata": {
    "collapsed": true
   },
   "outputs": [],
   "source": [
    "from deap import algorithms, base, benchmarks, tools, creator"
   ]
  },
  {
   "cell_type": "code",
   "execution_count": 10,
   "metadata": {
    "collapsed": true
   },
   "outputs": [],
   "source": [
    "random.seed(a=42)"
   ]
  },
  {
   "cell_type": "code",
   "execution_count": 11,
   "metadata": {
    "collapsed": true
   },
   "outputs": [],
   "source": [
    "creator.create(\"FitnessMin\", base.Fitness, weights=(-1.0,-1.0))\n",
    "#creator.create(\"Individual\", array.array, typecode='d', fitness=creator.FitnessMin)\n",
    "#creator.create(\"Individual\", list, typecode='d', fitness=creator.FitnessMin)\n",
    "#creator.create(\"Individual\", array.array, \n",
    "creator.create(\"Individual\", list, \n",
    "                #typecode='d', \n",
    "                fitness=creator.FitnessMin,\n",
    "                rank = None,\n",
    "                crowding_distance = None,\n",
    "                #dominated_solutions = set(),\n",
    "                dominated_solutions = [],\n",
    "                features = None,\n",
    "                objectives = None,\n",
    "                #dominates = None,\n",
    "                domination_counter = 0,\n",
    "              )"
   ]
  },
  {
   "cell_type": "code",
   "execution_count": 12,
   "metadata": {
    "collapsed": true
   },
   "outputs": [],
   "source": [
    "def uniform(low, up, size=None):\n",
    "    try:\n",
    "        return [random.uniform(a, b) for a, b in zip(low, up)]\n",
    "    except TypeError:\n",
    "        return [random.uniform(a, b) for a, b in zip([low] * size, [up] * size)]"
   ]
  },
  {
   "cell_type": "code",
   "execution_count": 13,
   "metadata": {
    "collapsed": true
   },
   "outputs": [],
   "source": [
    "toolbox = base.Toolbox()"
   ]
  },
  {
   "cell_type": "code",
   "execution_count": 54,
   "metadata": {},
   "outputs": [],
   "source": [
    "NDIM = 30\n",
    "BOUND_LOW, BOUND_UP = 0.0, 1.0\n",
    "toolbox.register(\"evaluate\", lambda ind: benchmarks.dtlz3(ind, 2))"
   ]
  },
  {
   "cell_type": "code",
   "execution_count": 55,
   "metadata": {
    "collapsed": true
   },
   "outputs": [],
   "source": [
    "toolbox.register(\"attr_float\", uniform, BOUND_LOW, BOUND_UP, NDIM)\n",
    "toolbox.register(\"individual\", tools.initIterate, creator.Individual, toolbox.attr_float)\n",
    "toolbox.register(\"population\", tools.initRepeat, list, toolbox.individual)\n",
    "toolbox.register(\"mate\", tools.cxSimulatedBinaryBounded, low=BOUND_LOW, up=BOUND_UP, eta=20.0)\n",
    "toolbox.register(\"mutate\", tools.mutPolynomialBounded, low=BOUND_LOW, up=BOUND_UP, eta=20.0, indpb=1.0/NDIM)\n",
    "#toolbox.register(\"select\", tools.selNSGA2)\n",
    "toolbox.register(\"select\", rodrigoNSGA2)"
   ]
  },
  {
   "cell_type": "code",
   "execution_count": 56,
   "metadata": {
    "collapsed": true
   },
   "outputs": [],
   "source": [
    "toolbox.register(\"population\", tools.initRepeat, list, toolbox.individual)\n",
    "a=toolbox.population(10)"
   ]
  },
  {
   "cell_type": "code",
   "execution_count": 57,
   "metadata": {},
   "outputs": [
    {
     "data": {
      "text/plain": [
       "deap.creator.FitnessMin(())"
      ]
     },
     "execution_count": 57,
     "metadata": {},
     "output_type": "execute_result"
    }
   ],
   "source": [
    "a[0].fitness"
   ]
  },
  {
   "cell_type": "code",
   "execution_count": 63,
   "metadata": {},
   "outputs": [
    {
     "name": "stdout",
     "output_type": "stream",
     "text": [
      "[2223.146491006109, 1720.1180376947552] \n",
      "\n",
      "[865.9164559808287, 2930.678764755617] \n",
      "\n",
      "[453.76798268541233, 2984.0445501527684] \n",
      "\n",
      "[932.3883247878811, 3043.5174883777013] \n",
      "\n",
      "[1082.955691434291, 2383.9393439175233] \n",
      "\n",
      "[466.8329718745695, 3033.9426704262187] \n",
      "\n",
      "[2520.83194560357, 1920.3378413670891] \n",
      "\n",
      "[508.9993321381952, 3124.9362678730204] \n",
      "\n",
      "[3189.4706560034597, 2170.353776012462] \n",
      "\n",
      "[3585.010951682069, 1237.8785236747037] \n",
      "\n"
     ]
    }
   ],
   "source": [
    "for i in a:\n",
    "    i.fitness = toolbox.evaluate(i)\n",
    "    print(i.fitness, '\\n')"
   ]
  },
  {
   "cell_type": "code",
   "execution_count": 59,
   "metadata": {},
   "outputs": [
    {
     "data": {
      "text/plain": [
       "[2223.146491006109, 1720.1180376947552]"
      ]
     },
     "execution_count": 59,
     "metadata": {},
     "output_type": "execute_result"
    }
   ],
   "source": [
    "a[0].fitness"
   ]
  },
  {
   "cell_type": "code",
   "execution_count": 18,
   "metadata": {
    "collapsed": true
   },
   "outputs": [],
   "source": [
    "f=fast_non_dominated_sort(a)"
   ]
  },
  {
   "cell_type": "code",
   "execution_count": 35,
   "metadata": {},
   "outputs": [],
   "source": [
    "#f"
   ]
  },
  {
   "cell_type": "code",
   "execution_count": 20,
   "metadata": {},
   "outputs": [
    {
     "data": {
      "text/plain": [
       "51"
      ]
     },
     "execution_count": 20,
     "metadata": {},
     "output_type": "execute_result"
    }
   ],
   "source": [
    "len(f)"
   ]
  },
  {
   "cell_type": "code",
   "execution_count": 21,
   "metadata": {},
   "outputs": [
    {
     "data": {
      "text/plain": [
       "50"
      ]
     },
     "execution_count": 21,
     "metadata": {},
     "output_type": "execute_result"
    }
   ],
   "source": [
    "len(f[1])"
   ]
  },
  {
   "cell_type": "code",
   "execution_count": 22,
   "metadata": {},
   "outputs": [
    {
     "data": {
      "text/plain": [
       "[[0.6394267984578837, 0.025010755222666936],\n",
       " [0.27502931836911926, 0.22321073814882275],\n",
       " [0.7364712141640124, 0.6766994874229113],\n",
       " [0.8921795677048454, 0.08693883262941615],\n",
       " [0.4219218196852704, 0.029797219438070344],\n",
       " [0.21863797480360336, 0.5053552881033624],\n",
       " [0.026535969683863625, 0.1988376506866485],\n",
       " [0.6498844377795232, 0.5449414806032167],\n",
       " [0.2204406220406967, 0.5892656838759087],\n",
       " [0.8094304566778266, 0.006498759678061017],\n",
       " [0.8058192518328079, 0.6981393949882269],\n",
       " [0.3402505165179919, 0.15547949981178155],\n",
       " [0.9572130722067812, 0.33659454511262676],\n",
       " [0.09274584338014791, 0.09671637683346401],\n",
       " [0.8474943663474598, 0.6037260313668911],\n",
       " [0.8071282732743802, 0.7297317866938179],\n",
       " [0.5362280914547007, 0.9731157639793706],\n",
       " [0.3785343772083535, 0.552040631273227],\n",
       " [0.8294046642529949, 0.6185197523642461],\n",
       " [0.8617069003107772, 0.577352145256762],\n",
       " [0.7045718362149235, 0.045824383655662215],\n",
       " [0.22789827565154686, 0.28938796360210717],\n",
       " [0.0797919769236275, 0.23279088636103018],\n",
       " [0.10100142940972912, 0.2779736031100921],\n",
       " [0.6356844442644002, 0.36483217897008424],\n",
       " [0.37018096711688264, 0.2095070307714877],\n",
       " [0.26697782204911336, 0.936654587712494],\n",
       " [0.6480353852465935, 0.6091310056669882],\n",
       " [0.171138648198097, 0.7291267979503492],\n",
       " [0.1634024937619284, 0.3794554417576478],\n",
       " [0.9895233506365952, 0.6399997598540929],\n",
       " [0.5569497437746462, 0.6846142509898746],\n",
       " [0.8428519201898096, 0.7759999115462448],\n",
       " [0.22904807196410437, 0.03210024390403776],\n",
       " [0.3154530480590819, 0.26774087597570273],\n",
       " [0.21098284358632646, 0.9429097143350544],\n",
       " [0.8763676264726689, 0.3146778807984779],\n",
       " [0.65543866529488, 0.39563190106066426],\n",
       " [0.9145475897405435, 0.4588518525873988],\n",
       " [0.26488016649805246, 0.24662750769398345],\n",
       " [0.5613681341631508, 0.26274160852293527],\n",
       " [0.5845859902235405, 0.897822883602477],\n",
       " [0.39940050514039727, 0.21932075915728333],\n",
       " [0.9975376064951103, 0.5095262936764645],\n",
       " [0.09090941217379389, 0.04711637542473457],\n",
       " [0.10964913035065915, 0.62744604170309],\n",
       " [0.7920793643629641, 0.42215996679968404],\n",
       " [0.06352770615195713, 0.38161928650653676],\n",
       " [0.9961213802400968, 0.529114345099137],\n",
       " [0.9710783776136181, 0.8607797022344981]]"
      ]
     },
     "execution_count": 22,
     "metadata": {},
     "output_type": "execute_result"
    }
   ],
   "source": [
    "f[1]"
   ]
  },
  {
   "cell_type": "code",
   "execution_count": 23,
   "metadata": {},
   "outputs": [
    {
     "data": {
      "text/plain": [
       "[0.27502931836911926, 0.22321073814882275]"
      ]
     },
     "execution_count": 23,
     "metadata": {},
     "output_type": "execute_result"
    }
   ],
   "source": [
    "a[1]"
   ]
  },
  {
   "cell_type": "code",
   "execution_count": 24,
   "metadata": {},
   "outputs": [
    {
     "data": {
      "text/plain": [
       "[0.7364712141640124, 0.6766994874229113]"
      ]
     },
     "execution_count": 24,
     "metadata": {},
     "output_type": "execute_result"
    }
   ],
   "source": [
    "a[2]"
   ]
  },
  {
   "cell_type": "code",
   "execution_count": 25,
   "metadata": {},
   "outputs": [
    {
     "data": {
      "text/plain": [
       "[0.8921795677048454, 0.08693883262941615]"
      ]
     },
     "execution_count": 25,
     "metadata": {},
     "output_type": "execute_result"
    }
   ],
   "source": [
    "a[3]"
   ]
  },
  {
   "cell_type": "code",
   "execution_count": 26,
   "metadata": {},
   "outputs": [
    {
     "data": {
      "text/plain": [
       "False"
      ]
     },
     "execution_count": 26,
     "metadata": {},
     "output_type": "execute_result"
    }
   ],
   "source": [
    "dominates(a[1],a[2])"
   ]
  },
  {
   "cell_type": "code",
   "execution_count": 27,
   "metadata": {},
   "outputs": [
    {
     "data": {
      "text/plain": [
       "False"
      ]
     },
     "execution_count": 27,
     "metadata": {},
     "output_type": "execute_result"
    }
   ],
   "source": [
    "dominates(a[2],a[3])"
   ]
  },
  {
   "cell_type": "code",
   "execution_count": null,
   "metadata": {
    "collapsed": true
   },
   "outputs": [],
   "source": []
  },
  {
   "cell_type": "code",
   "execution_count": null,
   "metadata": {
    "collapsed": true
   },
   "outputs": [],
   "source": []
  },
  {
   "cell_type": "code",
   "execution_count": null,
   "metadata": {
    "collapsed": true
   },
   "outputs": [],
   "source": []
  },
  {
   "cell_type": "code",
   "execution_count": null,
   "metadata": {
    "collapsed": true
   },
   "outputs": [],
   "source": []
  },
  {
   "cell_type": "code",
   "execution_count": 28,
   "metadata": {
    "collapsed": true
   },
   "outputs": [],
   "source": [
    "toolbox.pop_size = 50\n",
    "toolbox.max_gen = 1000\n",
    "toolbox.mut_prob = 0.2"
   ]
  },
  {
   "cell_type": "code",
   "execution_count": 29,
   "metadata": {
    "collapsed": true
   },
   "outputs": [],
   "source": [
    "#p = toolbox.population(n=toolbox.pop_size)"
   ]
  },
  {
   "cell_type": "code",
   "execution_count": 30,
   "metadata": {
    "collapsed": true
   },
   "outputs": [],
   "source": [
    "#pprint(vars(p[0]))"
   ]
  },
  {
   "cell_type": "code",
   "execution_count": 31,
   "metadata": {
    "collapsed": true
   },
   "outputs": [],
   "source": [
    "#toolbox.select(p[0], len(p[0]))"
   ]
  },
  {
   "cell_type": "code",
   "execution_count": 32,
   "metadata": {
    "collapsed": true
   },
   "outputs": [],
   "source": [
    "def run_ea(toolbox, stats=None, verbose=False):\n",
    "    pop = toolbox.population(n=toolbox.pop_size)\n",
    "    pop = toolbox.select(pop, len(pop))   \n",
    "    return algorithms.eaMuPlusLambda(pop, \n",
    "                                     toolbox, \n",
    "                                     mu=toolbox.pop_size, \n",
    "                                     lambda_=toolbox.pop_size, \n",
    "                                     cxpb=1-toolbox.mut_prob,\n",
    "                                     mutpb=toolbox.mut_prob, \n",
    "                                     stats=stats, \n",
    "                                     ngen=toolbox.max_gen, \n",
    "                                     verbose=verbose)"
   ]
  },
  {
   "cell_type": "code",
   "execution_count": 33,
   "metadata": {},
   "outputs": [
    {
     "ename": "UnboundLocalError",
     "evalue": "local variable 't' referenced before assignment",
     "output_type": "error",
     "traceback": [
      "\u001b[0;31m---------------------------------------------------------------------------\u001b[0m",
      "\u001b[0;31mUnboundLocalError\u001b[0m                         Traceback (most recent call last)",
      "\u001b[0;32m<ipython-input-33-6523b039d75d>\u001b[0m in \u001b[0;36m<module>\u001b[0;34m()\u001b[0m\n\u001b[0;32m----> 1\u001b[0;31m \u001b[0mrun_ea\u001b[0m\u001b[0;34m(\u001b[0m\u001b[0mtoolbox\u001b[0m\u001b[0;34m)\u001b[0m\u001b[0;34m\u001b[0m\u001b[0m\n\u001b[0m",
      "\u001b[0;32m<ipython-input-32-588fee095f0b>\u001b[0m in \u001b[0;36mrun_ea\u001b[0;34m(toolbox, stats, verbose)\u001b[0m\n\u001b[1;32m      1\u001b[0m \u001b[0;32mdef\u001b[0m \u001b[0mrun_ea\u001b[0m\u001b[0;34m(\u001b[0m\u001b[0mtoolbox\u001b[0m\u001b[0;34m,\u001b[0m \u001b[0mstats\u001b[0m\u001b[0;34m=\u001b[0m\u001b[0;32mNone\u001b[0m\u001b[0;34m,\u001b[0m \u001b[0mverbose\u001b[0m\u001b[0;34m=\u001b[0m\u001b[0;32mFalse\u001b[0m\u001b[0;34m)\u001b[0m\u001b[0;34m:\u001b[0m\u001b[0;34m\u001b[0m\u001b[0m\n\u001b[1;32m      2\u001b[0m     \u001b[0mpop\u001b[0m \u001b[0;34m=\u001b[0m \u001b[0mtoolbox\u001b[0m\u001b[0;34m.\u001b[0m\u001b[0mpopulation\u001b[0m\u001b[0;34m(\u001b[0m\u001b[0mn\u001b[0m\u001b[0;34m=\u001b[0m\u001b[0mtoolbox\u001b[0m\u001b[0;34m.\u001b[0m\u001b[0mpop_size\u001b[0m\u001b[0;34m)\u001b[0m\u001b[0;34m\u001b[0m\u001b[0m\n\u001b[0;32m----> 3\u001b[0;31m     \u001b[0mpop\u001b[0m \u001b[0;34m=\u001b[0m \u001b[0mtoolbox\u001b[0m\u001b[0;34m.\u001b[0m\u001b[0mselect\u001b[0m\u001b[0;34m(\u001b[0m\u001b[0mpop\u001b[0m\u001b[0;34m,\u001b[0m \u001b[0mlen\u001b[0m\u001b[0;34m(\u001b[0m\u001b[0mpop\u001b[0m\u001b[0;34m)\u001b[0m\u001b[0;34m)\u001b[0m\u001b[0;34m\u001b[0m\u001b[0m\n\u001b[0m\u001b[1;32m      4\u001b[0m     return algorithms.eaMuPlusLambda(pop, \n\u001b[1;32m      5\u001b[0m                                      \u001b[0mtoolbox\u001b[0m\u001b[0;34m,\u001b[0m\u001b[0;34m\u001b[0m\u001b[0m\n",
      "\u001b[0;32m<ipython-input-6-96eb1d33fe78>\u001b[0m in \u001b[0;36mrodrigoNSGA2\u001b[0;34m(pop, tam)\u001b[0m\n\u001b[1;32m      6\u001b[0m     \u001b[0mi\u001b[0m\u001b[0;34m=\u001b[0m\u001b[0;36m1\u001b[0m\u001b[0;34m\u001b[0m\u001b[0m\n\u001b[1;32m      7\u001b[0m     \u001b[0mP\u001b[0m \u001b[0;34m=\u001b[0m \u001b[0;34m{\u001b[0m\u001b[0;34m}\u001b[0m\u001b[0;34m\u001b[0m\u001b[0m\n\u001b[0;32m----> 8\u001b[0;31m     \u001b[0mP\u001b[0m\u001b[0;34m[\u001b[0m\u001b[0mt\u001b[0m\u001b[0;34m+\u001b[0m\u001b[0;36m1\u001b[0m\u001b[0;34m]\u001b[0m \u001b[0;34m=\u001b[0m \u001b[0;36m0\u001b[0m\u001b[0;34m\u001b[0m\u001b[0m\n\u001b[0m\u001b[1;32m      9\u001b[0m     \u001b[0;32mwhile\u001b[0m \u001b[0mlen\u001b[0m\u001b[0;34m(\u001b[0m\u001b[0mP\u001b[0m\u001b[0;34m[\u001b[0m\u001b[0mt\u001b[0m\u001b[0;34m+\u001b[0m\u001b[0;36m1\u001b[0m\u001b[0;34m]\u001b[0m\u001b[0;34m)\u001b[0m\u001b[0;34m+\u001b[0m\u001b[0mlen\u001b[0m\u001b[0;34m(\u001b[0m\u001b[0mF\u001b[0m\u001b[0;34m[\u001b[0m\u001b[0mi\u001b[0m\u001b[0;34m]\u001b[0m\u001b[0;34m)\u001b[0m \u001b[0;34m<=\u001b[0m \u001b[0mtam\u001b[0m\u001b[0;34m:\u001b[0m\u001b[0;34m\u001b[0m\u001b[0m\n\u001b[1;32m     10\u001b[0m         \u001b[0mcrowding_distance_assignmnet\u001b[0m\u001b[0;34m(\u001b[0m\u001b[0mF\u001b[0m\u001b[0;34m[\u001b[0m\u001b[0mi\u001b[0m\u001b[0;34m]\u001b[0m\u001b[0;34m)\u001b[0m\u001b[0;34m\u001b[0m\u001b[0m\n",
      "\u001b[0;31mUnboundLocalError\u001b[0m: local variable 't' referenced before assignment"
     ]
    }
   ],
   "source": [
    "run_ea(toolbox)"
   ]
  },
  {
   "cell_type": "code",
   "execution_count": null,
   "metadata": {
    "collapsed": true
   },
   "outputs": [],
   "source": [
    "%time res,_ = run_ea(toolbox)"
   ]
  },
  {
   "cell_type": "code",
   "execution_count": null,
   "metadata": {
    "collapsed": true
   },
   "outputs": [],
   "source": [
    "fronts = tools.emo.sortLogNondominated(res, len(res))"
   ]
  },
  {
   "cell_type": "code",
   "execution_count": null,
   "metadata": {
    "collapsed": true
   },
   "outputs": [],
   "source": [
    "plot_colors = seaborn.color_palette(\"Set1\", n_colors=10)\n",
    "fig, ax = plt.subplots(1, figsize=(4,4))\n",
    "for i,inds in enumerate(fronts):\n",
    "    par = [toolbox.evaluate(ind) for ind in inds]\n",
    "    df = pd.DataFrame(par)\n",
    "    df.plot(ax=ax, kind='scatter', label='Front ' + str(i+1), \n",
    "                 x=df.columns[0], y=df.columns[1], \n",
    "                 color=plot_colors[i])\n",
    "plt.xlabel('$f_1(\\mathbf{x})$');plt.ylabel('$f_2(\\mathbf{x})$');"
   ]
  }
 ],
 "metadata": {
  "kernelspec": {
   "display_name": "Python 3",
   "language": "python",
   "name": "python3"
  },
  "language_info": {
   "codemirror_mode": {
    "name": "ipython",
    "version": 3
   },
   "file_extension": ".py",
   "mimetype": "text/x-python",
   "name": "python",
   "nbconvert_exporter": "python",
   "pygments_lexer": "ipython3",
   "version": "3.6.1"
  },
  "latex_envs": {
   "LaTeX_envs_menu_present": true,
   "autocomplete": true,
   "bibliofile": "biblio.bib",
   "cite_by": "apalike",
   "current_citInitial": 1,
   "eqLabelWithNumbers": true,
   "eqNumInitial": 1,
   "hotkeys": {
    "equation": "Ctrl-E",
    "itemize": "Ctrl-I"
   },
   "labels_anchors": false,
   "latex_user_defs": false,
   "report_style_numbering": false,
   "user_envs_cfg": false
  }
 },
 "nbformat": 4,
 "nbformat_minor": 2
}
