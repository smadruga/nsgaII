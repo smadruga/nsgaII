{
 "cells": [
  {
   "cell_type": "markdown",
   "metadata": {},
   "source": [
    "Importação das bibliotecas necessárias"
   ]
  },
  {
   "cell_type": "code",
   "execution_count": 2,
   "metadata": {
    "collapsed": true
   },
   "outputs": [],
   "source": [
    "import numpy as np"
   ]
  },
  {
   "cell_type": "code",
   "execution_count": 9,
   "metadata": {},
   "outputs": [
    {
     "name": "stdout",
     "output_type": "stream",
     "text": [
      "[1 2 3]\n"
     ]
    }
   ],
   "source": [
    "a = np.array([1, 2, 3])  # Create a rank 1 array\n",
    "print(a)"
   ]
  },
  {
   "cell_type": "code",
   "execution_count": 10,
   "metadata": {},
   "outputs": [
    {
     "name": "stdout",
     "output_type": "stream",
     "text": [
      "<class 'numpy.ndarray'> (3,) 1 2 3\n",
      "[1 2 3]\n",
      "[5 2 3]\n"
     ]
    }
   ],
   "source": [
    "print(type(a), a.shape, a[0], a[1], a[2])\n",
    "print(a)\n",
    "a[0] = 5                 # Change an element of the array\n",
    "print(a)"
   ]
  },
  {
   "cell_type": "code",
   "execution_count": 4,
   "metadata": {},
   "outputs": [
    {
     "name": "stdout",
     "output_type": "stream",
     "text": [
      "[[1 2 3]\n",
      " [4 5 6]]\n"
     ]
    }
   ],
   "source": [
    "b = np.array([[1,2,3],[4,5,6]])   # Create a rank 2 array\n",
    "print(b)"
   ]
  },
  {
   "cell_type": "code",
   "execution_count": 15,
   "metadata": {},
   "outputs": [
    {
     "name": "stdout",
     "output_type": "stream",
     "text": [
      "<class 'numpy.ndarray'> (2, 3) 1 4\n"
     ]
    }
   ],
   "source": [
    "print(type(b), b.shape, b[0,0], b[1,0])"
   ]
  },
  {
   "cell_type": "code",
   "execution_count": 101,
   "metadata": {},
   "outputs": [
    {
     "name": "stdout",
     "output_type": "stream",
     "text": [
      "[[9 3 6 6 8]\n",
      " [7 4 2 1 6]]\n"
     ]
    }
   ],
   "source": [
    "e = np.random.randint(10, size=(2, 5))\n",
    "print(e)"
   ]
  },
  {
   "cell_type": "code",
   "execution_count": 102,
   "metadata": {},
   "outputs": [
    {
     "name": "stdout",
     "output_type": "stream",
     "text": [
      "[[7 9 9 1 1]\n",
      " [8 3 5 6 3]]\n"
     ]
    }
   ],
   "source": [
    "p = np.random.randint(10, size=(2, 5))\n",
    "print(p)"
   ]
  },
  {
   "cell_type": "code",
   "execution_count": 103,
   "metadata": {},
   "outputs": [
    {
     "name": "stdout",
     "output_type": "stream",
     "text": [
      "(2, 5)\n"
     ]
    }
   ],
   "source": [
    "print(p.shape)"
   ]
  },
  {
   "cell_type": "code",
   "execution_count": 104,
   "metadata": {},
   "outputs": [
    {
     "name": "stdout",
     "output_type": "stream",
     "text": [
      "[[9 3 6 6 8]\n",
      " [7 4 2 1 6]\n",
      " [7 9 9 1 1]\n",
      " [8 3 5 6 3]]\n"
     ]
    }
   ],
   "source": [
    "r = np.append(e, p, axis=0)\n",
    "print(r)"
   ]
  },
  {
   "cell_type": "code",
   "execution_count": 105,
   "metadata": {},
   "outputs": [
    {
     "name": "stdout",
     "output_type": "stream",
     "text": [
      "(4, 5)\n"
     ]
    }
   ],
   "source": [
    "print(r.shape)"
   ]
  },
  {
   "cell_type": "markdown",
   "metadata": {},
   "source": [
    "Função fast-non-dominated-sort responsável por classificar as soluções."
   ]
  },
  {
   "cell_type": "code",
   "execution_count": 106,
   "metadata": {},
   "outputs": [],
   "source": [
    "def teste(population):\n",
    "    n_p = 0\n",
    "    S_p = 0\n",
    "    for p in population:\n",
    "        print(p, p.shape)\n",
    "        \n",
    "        for q in p:\n",
    "            print(q, q.shape)\n",
    "        \n",
    "        n_p = n_p + 1\n",
    "        \n",
    "    #for p in range(len(population)):\n",
    "        #print(p, population(p))\n",
    "        "
   ]
  },
  {
   "cell_type": "code",
   "execution_count": 107,
   "metadata": {},
   "outputs": [
    {
     "ename": "SyntaxError",
     "evalue": "unexpected EOF while parsing (<ipython-input-107-9498fda08da7>, line 10)",
     "output_type": "error",
     "traceback": [
      "\u001b[0;36m  File \u001b[0;32m\"<ipython-input-107-9498fda08da7>\"\u001b[0;36m, line \u001b[0;32m10\u001b[0m\n\u001b[0;31m    \u001b[0m\n\u001b[0m    ^\u001b[0m\n\u001b[0;31mSyntaxError\u001b[0m\u001b[0;31m:\u001b[0m unexpected EOF while parsing\n"
     ]
    }
   ],
   "source": [
    "\n",
    "            "
   ]
  },
  {
   "cell_type": "code",
   "execution_count": 108,
   "metadata": {},
   "outputs": [
    {
     "name": "stdout",
     "output_type": "stream",
     "text": [
      "[9 3 6 6 8] (5,)\n",
      "[7 4 2 1 6] (5,)\n",
      "[7 9 9 1 1] (5,)\n",
      "[8 3 5 6 3] (5,)\n"
     ]
    }
   ],
   "source": [
    "fast_non_dominated_sort(r)"
   ]
  },
  {
   "cell_type": "code",
   "execution_count": 109,
   "metadata": {},
   "outputs": [
    {
     "name": "stdout",
     "output_type": "stream",
     "text": [
      "[7 4 2 1 6]\n"
     ]
    }
   ],
   "source": [
    "print(r[1,])"
   ]
  },
  {
   "cell_type": "code",
   "execution_count": 117,
   "metadata": {},
   "outputs": [
    {
     "name": "stdout",
     "output_type": "stream",
     "text": [
      "[ True False False  True  True] False\n"
     ]
    }
   ],
   "source": [
    "a = r[2,] <= r[1,]\n",
    "b = np.array_equal(r[2,], r[1,])\n",
    "print(a, b)"
   ]
  },
  {
   "cell_type": "code",
   "execution_count": 180,
   "metadata": {},
   "outputs": [
    {
     "name": "stdout",
     "output_type": "stream",
     "text": [
      "[ True  True  True False] False\n"
     ]
    }
   ],
   "source": [
    "x = np.array([1, 2, 3, 4])\n",
    "y = np.array([3, 4, 6, 2])\n",
    "\n",
    "a = x <= y\n",
    "b = np.array_equal(x, y)\n",
    "print(a, b)"
   ]
  },
  {
   "cell_type": "code",
   "execution_count": 415,
   "metadata": {},
   "outputs": [],
   "source": [
    "def dominates(ind1, ind2):\n",
    "    \n",
    "    r1 = np.array_equal(ind1, ind2)\n",
    "    if r1 == True:\n",
    "        #print(\"1\")\n",
    "        return False\n",
    "    \n",
    "    v = ind1 <= ind2\n",
    "    r2 = True\n",
    "    for b in v:  \n",
    "        #print(\"2\")\n",
    "        if b == False:\n",
    "            return False\n",
    "        #print(\"3\")\n",
    "        \n",
    "        \n",
    "    return True"
   ]
  },
  {
   "cell_type": "code",
   "execution_count": 421,
   "metadata": {},
   "outputs": [],
   "source": [
    "def fast_non_dominated_sort(P):\n",
    "\n",
    "    for p in P:\n",
    "        #print(p, p.shape)        \n",
    "\n",
    "        n_p = 0\n",
    "        S_p = list()\n",
    "        F = list()\n",
    "        \n",
    "        #print('eee= ')\n",
    "        for q in P:\n",
    "            #print('eee2= ', p, q)\n",
    "            if dominates(p, q):\n",
    "                S_p.append(q) \n",
    "                #print('a= ', S_p)\n",
    "            elif dominates(q, p):\n",
    "                n_p = n_p + 1\n",
    "                #print('b= ', n_p)\n",
    "              \n",
    "        if n_p == 0:\n",
    "            p_rank = 1\n",
    "            F.append(p) \n",
    "            #print('c= ', F)        \n",
    "        \n",
    "    i = 0\n",
    "    for x in F:\n",
    "        Q = list()\n",
    "        \n",
    "        for p in F[i]:\n",
    "            for q in S_p:\n",
    "                n_q = n_p - 1\n",
    "                #print('d= ', n_q)\n",
    "                \n",
    "                if n_q == 0:\n",
    "                    q_rank = i + 1\n",
    "                    Q.append(q)\n",
    "                    #print('e= ', Q)\n",
    "                    \n",
    "        i = i + 1\n",
    "        if (len(F)-1) == i:\n",
    "            F[i] = Q        \n",
    "            "
   ]
  },
  {
   "cell_type": "code",
   "execution_count": 422,
   "metadata": {},
   "outputs": [
    {
     "name": "stdout",
     "output_type": "stream",
     "text": [
      "[[4 8]\n",
      " [0 2]]\n"
     ]
    }
   ],
   "source": [
    "r = np.random.randint(10, size=(2, 2))\n",
    "print(r)"
   ]
  },
  {
   "cell_type": "code",
   "execution_count": 423,
   "metadata": {},
   "outputs": [],
   "source": [
    "fast_non_dominated_sort(r)"
   ]
  },
  {
   "cell_type": "code",
   "execution_count": null,
   "metadata": {
    "collapsed": true
   },
   "outputs": [],
   "source": []
  }
 ],
 "metadata": {
  "kernelspec": {
   "display_name": "Python 3",
   "language": "python",
   "name": "python3"
  },
  "language_info": {
   "codemirror_mode": {
    "name": "ipython",
    "version": 3
   },
   "file_extension": ".py",
   "mimetype": "text/x-python",
   "name": "python",
   "nbconvert_exporter": "python",
   "pygments_lexer": "ipython3",
   "version": "3.6.1"
  },
  "latex_envs": {
   "LaTeX_envs_menu_present": true,
   "autocomplete": true,
   "bibliofile": "biblio.bib",
   "cite_by": "apalike",
   "current_citInitial": 1,
   "eqLabelWithNumbers": true,
   "eqNumInitial": 1,
   "hotkeys": {
    "equation": "Ctrl-E",
    "itemize": "Ctrl-I"
   },
   "labels_anchors": false,
   "latex_user_defs": false,
   "report_style_numbering": false,
   "user_envs_cfg": false
  }
 },
 "nbformat": 4,
 "nbformat_minor": 2
}
