{
 "cells": [
  {
   "cell_type": "markdown",
   "metadata": {},
   "source": [
    "### Algoritmo NSGAII\n",
    "\n",
    "O Algoritmo NSGAII trabalha como um operador de seleção de indivíduos sobre uma população. É mais rápido e possui uma menor complexidade computacional se comparado com outros algoritmos notórios. A adoção do método elitista garante uma maior velocidade de sua execução.\n",
    "\n",
    "Inicialmente uma população P(t) de tamanho N (t=0) é criada aleatoriamente e ordenada de acordo com sua não-dominância. Para cada solução é atribuído um valor de fitness (ou rank) equivalente ao seu nível de não-dominância, sendo o nível 1 o melhor, nível 2 o melhor seguinte e etc.\n",
    "\n",
    "Em seguida Q(t), de tamanho N e t=0, é gerado utilizando operadores de seleção de torneiro binário, recombinação e mutação.\n",
    "\n",
    "Feito isso, combina-se P(t) e Q(t) (pais e filhos) obtendo-se R(t) de tamanho 2N. O elitismo é garantido neste processo pois, até o momento, todos os indivíduos gerados estão preservados. \n",
    "\n",
    "As soluções de R(t) são ordenadas de acordo com sua não-dominância, formando as fronteiras, desde F1 (fronteira que contém as melhores soluções) até a última identificada. O pior caso ocorre quando para cada fronteira há apenas uma solução.\n",
    "\n",
    "O objetivo seguinte é obter a próxima geração P(t+1) de tamanho N a partir de R(t). Logo, se o tamanho da fronteira F1 de R(t) for menor que N todas as soluções de F1 passarão a pertencer a P(t+1). E soluções das fronteiras seguintes são adicionadas a P(t+1) até que seu tamanho seja N, de acordo com o ranking de não dominância.\n",
    "\n",
    "<div align='center'><img src='https://www.researchgate.net/profile/N_Nariman-Zadeh/publication/228569970/figure/fig1/AS:302014627106822@1449017306661/Fig-1-Basics-of-NSGA-II-procedure.png' width='56%' align='center'/>\n",
    "Fonte: https://www.researchgate.net/publication/228569970_Thermodynamic_Pareto_optimization_of_turbojet_engines_using_multi-objective_genetic_algorithms</div>\n",
    "\n",
    "Durante a geração de P(t+1) calcula-se para cada indivíduo seu ranking e distância de agrupamento, necessários na hora de comparar as soluções e obter a melhor através do operador crowded-comparison.\n",
    "\n",
    "Agora, sobre a nova população P(t+1) de tamanho N utilizamos operadores de seleção, mutação e cruzamento para criar a nova população Q(t+1) de tamanho N. \n",
    "\n",
    "Este processo se repete até que um critério de parada seja atingido. A função NSGA2 é composta por outras funções auxiliares, conforme descrito a seguir.\n"
   ]
  },
  {
   "cell_type": "code",
   "execution_count": 1,
   "metadata": {
    "collapsed": true
   },
   "outputs": [],
   "source": [
    "#função responsável por determinar a dominância de um indivíduo sobre o outro.\n",
    "#ind1 dominará ind2 se:\n",
    "#    - ind1 e ind2 forem diferentes entre si e \n",
    "#    - ind1 preceder ind2\n",
    "def dominates(ind1, ind2):\n",
    "    \n",
    "    #verifica igualdade\n",
    "    r1 = np.array_equal(ind1, ind2)\n",
    "    if r1 == True:\n",
    "        return False\n",
    "    \n",
    "    #verifica a precedência  \n",
    "    for i in range(len(ind1)):               \n",
    "        if ind1[i] > ind2[i]:\n",
    "            return False       \n",
    "        \n",
    "    return True"
   ]
  },
  {
   "cell_type": "code",
   "execution_count": 72,
   "metadata": {
    "collapsed": true
   },
   "outputs": [],
   "source": [
    "#função que identifica as soluções de acordo com cada fronteira existente, classificando-os segundo\n",
    "#    seu nível de não dominância\n",
    "def fast_non_dominated_sort(P):\n",
    "    \n",
    "    #início do loop que analisa cada indivíduo p da população P\n",
    "    #este primeiro laço é responsável por identificar os indivíduos da primeira fronteira\n",
    "    for p in P:\n",
    "    \n",
    "        \n",
    "        n_p = 0 #contador de dominância, quantidade de soluções que p domina, todas as soluções da primeira\n",
    "            #fronteira possuem n_p = 0\n",
    "        S_p = [] #lista das soluções dominadas por p\n",
    "        F = {} #lista(dicionário) das fronteiras\n",
    "        F[1] = []\n",
    "        \n",
    "        #compara a solução p com as demais soluções da população P, determinando sua relação de dominância\n",
    "        for q in P:\n",
    "    \n",
    "            if dominates(p, q): #se p domina q, q é adicionado ao conjunto de soluções dominadas por p\n",
    "                S_p.append(q) \n",
    "                #p.dominated_solutions.append(q)\n",
    "            elif dominates(q, p): #senão o contador de dominância de p é incrementado\n",
    "                n_p = n_p + 1\n",
    "          \n",
    "        #se o contador de dominância do p em questão for igual a zero ele pertencerá à primeira fronteira\n",
    "        if n_p == 0:\n",
    "            p.rank = 1 #soluções da fronteira 1 possuem rank igual a 1\n",
    "            #F.append(p) \n",
    "            F[1].append(p) \n",
    "        \n",
    "        p.dominated_solutions = S_p\n",
    "        p.domination_counter = n_p\n",
    "        \n",
    "    \n",
    "    #este segundo laço é responsável por identificar os indivíduos das demais fronteiras\n",
    "    i = 1\n",
    "    for x in F[i]:\n",
    "        Q = [] #armazena os indivíduos da próxima fronteira     \n",
    "        \n",
    "        for p in F[i]:\n",
    "            #for q in S_p:\n",
    "            for q in p.dominated_solutions:\n",
    "                n_q = p.domination_counter - 1\n",
    "                \n",
    "                if n_q == 0:\n",
    "                    q.rank = i + 1\n",
    "                    Q.append(q)\n",
    "                    \n",
    "        i = i + 1\n",
    "        F[i] = Q         \n",
    "        \n",
    "    return F"
   ]
  },
  {
   "cell_type": "code",
   "execution_count": 73,
   "metadata": {
    "collapsed": true
   },
   "outputs": [],
   "source": [
    "def crowding_distance_assignmnet(I):\n",
    "    \n",
    "    l = len(I)\n",
    "    individuals = []\n",
    "\n",
    "    for i in I:\n",
    "        individuals.append((i,0));\n",
    "\n",
    "        \n",
    "        individuals.sort()\n",
    "\n",
    "    return individuals"
   ]
  },
  {
   "cell_type": "code",
   "execution_count": 74,
   "metadata": {
    "collapsed": true
   },
   "outputs": [],
   "source": [
    "def crowded_comparison_operator(ind1, ind2):\n",
    "    \n",
    "    if (ind1.rank < ind2.rank) or ((ind1.rank == ind2.rank) and (ind1.crowding_distance > ind2.crowding_distance)):\n",
    "        return True\n",
    "    else:\n",
    "        return False"
   ]
  },
  {
   "cell_type": "code",
   "execution_count": 75,
   "metadata": {
    "collapsed": true
   },
   "outputs": [],
   "source": [
    "def rodrigoNSGA2(pop,tam):\n",
    "    \n",
    "    #ordeno os indivíduos da população de acordo com sua não-dominância\n",
    "    #F = []\n",
    "    F = fast_non_dominated_sort(pop)\n",
    "    \n",
    "    i=1\n",
    "    P = []\n",
    "    while len(P)+len(F) <= N:\n",
    "        crowding_distance_assignmnet(F)\n",
    "        P = P.append(F)\n",
    "        i = i + 1\n",
    "        \n",
    "    #classifica as soluções em ordem decrescente usando o operador crowded_comparison\n",
    "    crowded_comparison_operator(F)\n",
    "    \n",
    "    P = P.append(F[1:(N-len(P))])\n",
    "    Q = make_new_pop(P)\n",
    "    \n",
    "    t = t + 1    \n",
    "    "
   ]
  },
  {
   "cell_type": "code",
   "execution_count": 76,
   "metadata": {
    "collapsed": true
   },
   "outputs": [],
   "source": [
    "import time, array, random, copy, math\n",
    "import numpy as np\n",
    "import pandas as pd\n",
    "\n",
    "from pprint import pprint"
   ]
  },
  {
   "cell_type": "code",
   "execution_count": 77,
   "metadata": {
    "collapsed": true
   },
   "outputs": [],
   "source": [
    "import matplotlib.pyplot as plt\n",
    "%matplotlib inline\n",
    "%config InlineBackend.figure_format = 'retina'\n",
    "plt.rc('text', usetex=False)\n",
    "plt.rc('font', family='serif')\n",
    "plt.rcParams['text.latex.preamble'] ='\\\\usepackage{libertine}\\n\\\\usepackage[utf8]{inputenc}'\n",
    "\n",
    "import seaborn\n",
    "seaborn.set(style='whitegrid')\n",
    "seaborn.set_context('notebook')"
   ]
  },
  {
   "cell_type": "code",
   "execution_count": 78,
   "metadata": {
    "collapsed": true
   },
   "outputs": [],
   "source": [
    "from deap import algorithms, base, benchmarks, tools, creator"
   ]
  },
  {
   "cell_type": "code",
   "execution_count": 79,
   "metadata": {
    "collapsed": true
   },
   "outputs": [],
   "source": [
    "random.seed(a=42)"
   ]
  },
  {
   "cell_type": "code",
   "execution_count": 80,
   "metadata": {},
   "outputs": [],
   "source": [
    "creator.create(\"FitnessMin\", base.Fitness, weights=(-1.0,-1.0))\n",
    "#creator.create(\"Individual\", array.array, typecode='d', fitness=creator.FitnessMin)\n",
    "#creator.create(\"Individual\", list, typecode='d', fitness=creator.FitnessMin)\n",
    "#creator.create(\"Individual\", array.array, \n",
    "creator.create(\"Individual\", list, \n",
    "                #typecode='d', \n",
    "                fitness=creator.FitnessMin,\n",
    "                rank = None,\n",
    "                crowding_distance = None,\n",
    "                #dominated_solutions = set(),\n",
    "                dominated_solutions = [],\n",
    "                features = None,\n",
    "                objectives = None,\n",
    "                #dominates = None,\n",
    "                domination_counter = 0,\n",
    "              )"
   ]
  },
  {
   "cell_type": "code",
   "execution_count": 81,
   "metadata": {
    "collapsed": true
   },
   "outputs": [],
   "source": [
    "def uniform(low, up, size=None):\n",
    "    try:\n",
    "        return [random.uniform(a, b) for a, b in zip(low, up)]\n",
    "    except TypeError:\n",
    "        return [random.uniform(a, b) for a, b in zip([low] * size, [up] * size)]"
   ]
  },
  {
   "cell_type": "code",
   "execution_count": 82,
   "metadata": {
    "collapsed": true
   },
   "outputs": [],
   "source": [
    "toolbox = base.Toolbox()"
   ]
  },
  {
   "cell_type": "code",
   "execution_count": 83,
   "metadata": {
    "collapsed": true
   },
   "outputs": [],
   "source": [
    "#NDIM = 30 \n",
    "NDIM = 3 \n",
    "BOUND_LOW, BOUND_UP = 0.0, 1.0\n",
    "toolbox.register(\"evaluate\", lambda ind: benchmarks.dtlz3(ind, 2))"
   ]
  },
  {
   "cell_type": "code",
   "execution_count": 84,
   "metadata": {},
   "outputs": [],
   "source": [
    "toolbox.register(\"attr_float\", uniform, BOUND_LOW, BOUND_UP, NDIM)\n",
    "toolbox.register(\"individual\", tools.initIterate, creator.Individual, toolbox.attr_float)\n",
    "toolbox.register(\"population\", tools.initRepeat, list, toolbox.individual)\n",
    "toolbox.register(\"mate\", tools.cxSimulatedBinaryBounded, low=BOUND_LOW, up=BOUND_UP, eta=20.0)\n",
    "toolbox.register(\"mutate\", tools.mutPolynomialBounded, low=BOUND_LOW, up=BOUND_UP, eta=20.0, indpb=1.0/NDIM)\n",
    "#toolbox.register(\"select\", tools.selNSGA2)\n",
    "toolbox.register(\"select\", rodrigoNSGA2)"
   ]
  },
  {
   "cell_type": "code",
   "execution_count": 85,
   "metadata": {},
   "outputs": [
    {
     "data": {
      "text/plain": [
       "[[1, 2, 3],\n",
       " [3, 4, 6],\n",
       " [43, 42, 63],\n",
       " [13, 34, 36],\n",
       " [23, 74, 96],\n",
       " [23, 54, 86],\n",
       " [23, 64, 68],\n",
       " [43, 49, 69],\n",
       " [83, 64, 86],\n",
       " [93, 64, 96]]"
      ]
     },
     "execution_count": 85,
     "metadata": {},
     "output_type": "execute_result"
    }
   ],
   "source": [
    "a=creator.Individual([1,2,3])\n",
    "a.rank=1\n",
    "#a=[1,2,3]\n",
    "pop=[[1,2,3],[3,4,6],[43,42,63],[13,34,36],[23,74,96],[23,54,86],[23,64,68],[43,49,69],[83,64,86],[93,64,96]]\n",
    "pop"
   ]
  },
  {
   "cell_type": "code",
   "execution_count": 86,
   "metadata": {},
   "outputs": [],
   "source": [
    "toolbox.register(\"population\", tools.initRepeat, list, toolbox.individual)\n",
    "a=toolbox.population(5)\n",
    "#a[0].rank = 2"
   ]
  },
  {
   "cell_type": "code",
   "execution_count": 87,
   "metadata": {},
   "outputs": [
    {
     "ename": "TypeError",
     "evalue": "vars() argument must have __dict__ attribute",
     "output_type": "error",
     "traceback": [
      "\u001b[0;31m---------------------------------------------------------------------------\u001b[0m",
      "\u001b[0;31mTypeError\u001b[0m                                 Traceback (most recent call last)",
      "\u001b[0;32m<ipython-input-87-28612aa348f2>\u001b[0m in \u001b[0;36m<module>\u001b[0;34m()\u001b[0m\n\u001b[1;32m      1\u001b[0m \u001b[0;32mfrom\u001b[0m \u001b[0mpprint\u001b[0m \u001b[0;32mimport\u001b[0m \u001b[0mpprint\u001b[0m\u001b[0;34m\u001b[0m\u001b[0m\n\u001b[1;32m      2\u001b[0m \u001b[0;34m\u001b[0m\u001b[0m\n\u001b[0;32m----> 3\u001b[0;31m \u001b[0mpprint\u001b[0m\u001b[0;34m(\u001b[0m\u001b[0mvars\u001b[0m\u001b[0;34m(\u001b[0m\u001b[0ma\u001b[0m\u001b[0;34m)\u001b[0m\u001b[0;34m)\u001b[0m\u001b[0;34m\u001b[0m\u001b[0m\n\u001b[0m",
      "\u001b[0;31mTypeError\u001b[0m: vars() argument must have __dict__ attribute"
     ]
    }
   ],
   "source": [
    "from pprint import pprint\n",
    "\n",
    "pprint(vars(a))"
   ]
  },
  {
   "cell_type": "code",
   "execution_count": 88,
   "metadata": {},
   "outputs": [
    {
     "name": "stdout",
     "output_type": "stream",
     "text": [
      "[0.6394267984578837, 0.025010755222666936, 0.27502931836911926]  rank=  8\n",
      "[0.22321073814882275, 0.7364712141640124, 0.6766994874229113]  rank=  6\n",
      "[0.8921795677048454, 0.08693883262941615, 0.4219218196852704]  rank=  3\n",
      "[0.029797219438070344, 0.21863797480360336, 0.5053552881033624]  rank=  7\n",
      "[0.026535969683863625, 0.1988376506866485, 0.6498844377795232]  rank=  9\n"
     ]
    }
   ],
   "source": [
    "from random import randint\n",
    "#print(randint(0, 9))\n",
    "for i in a:\n",
    "    i.rank = randint(0, 9)\n",
    "    print(i, \" rank= \", i.rank)"
   ]
  },
  {
   "cell_type": "code",
   "execution_count": 89,
   "metadata": {},
   "outputs": [
    {
     "data": {
      "text/plain": [
       "[[0.6394267984578837, 0.025010755222666936, 0.27502931836911926],\n",
       " [0.22321073814882275, 0.7364712141640124, 0.6766994874229113],\n",
       " [0.8921795677048454, 0.08693883262941615, 0.4219218196852704],\n",
       " [0.029797219438070344, 0.21863797480360336, 0.5053552881033624],\n",
       " [0.026535969683863625, 0.1988376506866485, 0.6498844377795232]]"
      ]
     },
     "execution_count": 89,
     "metadata": {},
     "output_type": "execute_result"
    }
   ],
   "source": [
    "a"
   ]
  },
  {
   "cell_type": "code",
   "execution_count": 90,
   "metadata": {},
   "outputs": [],
   "source": [
    "f=fast_non_dominated_sort(a)"
   ]
  },
  {
   "cell_type": "code",
   "execution_count": 91,
   "metadata": {},
   "outputs": [
    {
     "data": {
      "text/plain": [
       "{1: [[0.026535969683863625, 0.1988376506866485, 0.6498844377795232]], 2: []}"
      ]
     },
     "execution_count": 91,
     "metadata": {},
     "output_type": "execute_result"
    }
   ],
   "source": [
    "f"
   ]
  },
  {
   "cell_type": "code",
   "execution_count": null,
   "metadata": {
    "collapsed": true
   },
   "outputs": [],
   "source": []
  },
  {
   "cell_type": "code",
   "execution_count": 28,
   "metadata": {},
   "outputs": [],
   "source": [
    "a = sorted(a, key=lambda a: a.rank)   # sort by age"
   ]
  },
  {
   "cell_type": "code",
   "execution_count": 29,
   "metadata": {},
   "outputs": [
    {
     "data": {
      "text/plain": [
       "[[0.026535969683863625, 0.1988376506866485, 0.6498844377795232],\n",
       " [0.6981393949882269, 0.3402505165179919, 0.15547949981178155],\n",
       " [0.9572130722067812, 0.33659454511262676, 0.09274584338014791],\n",
       " [0.5449414806032167, 0.2204406220406967, 0.5892656838759087],\n",
       " [0.8094304566778266, 0.006498759678061017, 0.8058192518328079]]"
      ]
     },
     "execution_count": 29,
     "metadata": {},
     "output_type": "execute_result"
    }
   ],
   "source": [
    "a"
   ]
  },
  {
   "cell_type": "code",
   "execution_count": null,
   "metadata": {
    "collapsed": true
   },
   "outputs": [],
   "source": []
  },
  {
   "cell_type": "code",
   "execution_count": null,
   "metadata": {
    "collapsed": true
   },
   "outputs": [],
   "source": []
  },
  {
   "cell_type": "code",
   "execution_count": null,
   "metadata": {
    "collapsed": true
   },
   "outputs": [],
   "source": []
  },
  {
   "cell_type": "code",
   "execution_count": null,
   "metadata": {
    "collapsed": true
   },
   "outputs": [],
   "source": []
  },
  {
   "cell_type": "code",
   "execution_count": null,
   "metadata": {
    "collapsed": true
   },
   "outputs": [],
   "source": [
    "toolbox.pop_size = 50\n",
    "toolbox.max_gen = 1000\n",
    "toolbox.mut_prob = 0.2"
   ]
  },
  {
   "cell_type": "code",
   "execution_count": null,
   "metadata": {
    "collapsed": true
   },
   "outputs": [],
   "source": [
    "#p = toolbox.population(n=toolbox.pop_size)"
   ]
  },
  {
   "cell_type": "code",
   "execution_count": null,
   "metadata": {
    "collapsed": true
   },
   "outputs": [],
   "source": [
    "#pprint(vars(p[0]))"
   ]
  },
  {
   "cell_type": "code",
   "execution_count": null,
   "metadata": {
    "collapsed": true
   },
   "outputs": [],
   "source": [
    "#toolbox.select(p[0], len(p[0]))"
   ]
  },
  {
   "cell_type": "code",
   "execution_count": null,
   "metadata": {
    "collapsed": true
   },
   "outputs": [],
   "source": [
    "def run_ea(toolbox, stats=None, verbose=False):\n",
    "    pop = toolbox.population(n=toolbox.pop_size)\n",
    "    pop = toolbox.select(pop, len(pop))   \n",
    "    return algorithms.eaMuPlusLambda(pop, \n",
    "                                     toolbox, \n",
    "                                     mu=toolbox.pop_size, \n",
    "                                     lambda_=toolbox.pop_size, \n",
    "                                     cxpb=1-toolbox.mut_prob,\n",
    "                                     mutpb=toolbox.mut_prob, \n",
    "                                     stats=stats, \n",
    "                                     ngen=toolbox.max_gen, \n",
    "                                     verbose=verbose)"
   ]
  },
  {
   "cell_type": "code",
   "execution_count": null,
   "metadata": {},
   "outputs": [],
   "source": [
    "run_ea(toolbox)"
   ]
  },
  {
   "cell_type": "code",
   "execution_count": null,
   "metadata": {
    "collapsed": true
   },
   "outputs": [],
   "source": [
    "%time res,_ = run_ea(toolbox)"
   ]
  },
  {
   "cell_type": "code",
   "execution_count": null,
   "metadata": {
    "collapsed": true
   },
   "outputs": [],
   "source": [
    "fronts = tools.emo.sortLogNondominated(res, len(res))"
   ]
  },
  {
   "cell_type": "code",
   "execution_count": null,
   "metadata": {
    "collapsed": true
   },
   "outputs": [],
   "source": [
    "plot_colors = seaborn.color_palette(\"Set1\", n_colors=10)\n",
    "fig, ax = plt.subplots(1, figsize=(4,4))\n",
    "for i,inds in enumerate(fronts):\n",
    "    par = [toolbox.evaluate(ind) for ind in inds]\n",
    "    df = pd.DataFrame(par)\n",
    "    df.plot(ax=ax, kind='scatter', label='Front ' + str(i+1), \n",
    "                 x=df.columns[0], y=df.columns[1], \n",
    "                 color=plot_colors[i])\n",
    "plt.xlabel('$f_1(\\mathbf{x})$');plt.ylabel('$f_2(\\mathbf{x})$');"
   ]
  }
 ],
 "metadata": {
  "kernelspec": {
   "display_name": "Python 3",
   "language": "python",
   "name": "python3"
  },
  "language_info": {
   "codemirror_mode": {
    "name": "ipython",
    "version": 3
   },
   "file_extension": ".py",
   "mimetype": "text/x-python",
   "name": "python",
   "nbconvert_exporter": "python",
   "pygments_lexer": "ipython3",
   "version": "3.6.1"
  },
  "latex_envs": {
   "LaTeX_envs_menu_present": true,
   "autocomplete": true,
   "bibliofile": "biblio.bib",
   "cite_by": "apalike",
   "current_citInitial": 1,
   "eqLabelWithNumbers": true,
   "eqNumInitial": 1,
   "hotkeys": {
    "equation": "Ctrl-E",
    "itemize": "Ctrl-I"
   },
   "labels_anchors": false,
   "latex_user_defs": false,
   "report_style_numbering": false,
   "user_envs_cfg": false
  }
 },
 "nbformat": 4,
 "nbformat_minor": 2
}
